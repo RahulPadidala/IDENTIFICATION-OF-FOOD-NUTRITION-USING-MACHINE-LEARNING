{
 "cells": [
  {
   "cell_type": "code",
   "execution_count": 2,
   "metadata": {
    "id": "FHwi5HjgQdRo"
   },
   "outputs": [],
   "source": [
    "import numpy as np\n",
    "import pandas as pd\n",
    "import io\n",
    "import matplotlib.pyplot as plt\n",
    "import seaborn as sns\n",
    "import math\n",
    "import sklearn\n",
    "from sklearn.manifold import TSNE\n",
    "from sklearn.decomposition import PCA, TruncatedSVD\n",
    "import matplotlib.patches as mpatches\n",
    "import time\n",
    "from matplotlib import gridspec\n",
    "import warnings\n",
    "warnings.filterwarnings('ignore')"
   ]
  },
  {
   "cell_type": "code",
   "execution_count": 3,
   "metadata": {
    "colab": {
     "base_uri": "https://localhost:8080/"
    },
    "id": "X0-NilcFTIyA",
    "outputId": "3f8a6b35-e9f6-4c94-ce35-96c91983a1d1"
   },
   "outputs": [
    {
     "name": "stdout",
     "output_type": "stream",
     "text": [
      "                                     Food and Serving  Calories  \\\n",
      "0                                                 NaN       NaN   \n",
      "1                   Asparagus, 5 spears (93 g/3.3 oz)      20.0   \n",
      "2                Bell Pepper, 1 medium (148 g/5.3 oz)      25.0   \n",
      "3             Broccoli, 1 medium stalk (148 g/5.3 oz)      45.0   \n",
      "4   Carrot, 1 carrot, 7\" long,Ê1 1/4\" diameter (78...      30.0   \n",
      "..                                                ...       ...   \n",
      "57                Scallops, about 6 large or 14 small     140.0   \n",
      "58                                             Shrimp     100.0   \n",
      "59                                          Swordfish     120.0   \n",
      "60                                            Tilapia     110.0   \n",
      "61                                               Tuna     130.0   \n",
      "\n",
      "    CaloriesÊfrom Fat Total Fat Total Fat.1 Sodium Sodium.1 Potassium  \\\n",
      "0                 NaN       (g)       (%DV)    (g)    (%DV)       (g)   \n",
      "1                 0.0         0           0      0        0       230   \n",
      "2                 0.0         0           0     40        2       220   \n",
      "3                 0.0       0.5           1     80        3       460   \n",
      "4                 0.0         0           0     60        3       250   \n",
      "..                ...       ...         ...    ...      ...       ...   \n",
      "57               10.0         1           2    310       13       430   \n",
      "58               10.0       1.5           2    240       10       220   \n",
      "59               50.0         6           9    100        4       310   \n",
      "60               20.0       2.5           4     30        1       360   \n",
      "61               15.0       1.5           2     40        2       480   \n",
      "\n",
      "   Potassium.1 Total Carbo-hydrate  ... Protein Vitamin A Vitamin C Calcium  \\\n",
      "0        (%DV)                 (g)  ...     (g)     (%DV)     (%DV)   (%DV)   \n",
      "1            7                   4  ...       2        10        15       2   \n",
      "2            6                   6  ...       1         4       190       2   \n",
      "3           13                   8  ...       4         6       220       6   \n",
      "4            7                   7  ...       1       110        10       2   \n",
      "..         ...                 ...  ...     ...       ...       ...     ...   \n",
      "57          12                   5  ...      27         2         0       4   \n",
      "58           6                   0  ...      21         4         4       6   \n",
      "59           9                   0  ...      16         2         2       0   \n",
      "60          10                   0  ...      22         0         2       0   \n",
      "61          14                   0  ...      26         2         2       2   \n",
      "\n",
      "   ÊÊIronÊÊ Saturated Fat Saturated Fat.1 Chole-sterol Chole-sterol.1  \\\n",
      "0     (%DV)         (%DV)           (mg)Ê        (%DV)          (mg)Ê   \n",
      "1         2           NaN             NaN          NaN            NaN   \n",
      "2         4           NaN             NaN          NaN            NaN   \n",
      "3         6           NaN             NaN          NaN            NaN   \n",
      "4         2           NaN             NaN          NaN            NaN   \n",
      "..      ...           ...             ...          ...            ...   \n",
      "57       14             0               0           65             22   \n",
      "58       10             0               0          170             57   \n",
      "59        6           1.5               8           40             13   \n",
      "60        2             1               5           75             25   \n",
      "61        4             0               0           50             17   \n",
      "\n",
      "                                            Food Type  \n",
      "0                                                 NaN  \n",
      "1   Vegetables, Serving Size (gram weight/Êounce w...  \n",
      "2   Vegetables, Serving Size (gram weight/Êounce w...  \n",
      "3   Vegetables, Serving Size (gram weight/Êounce w...  \n",
      "4   Vegetables, Serving Size (gram weight/Êounce w...  \n",
      "..                                                ...  \n",
      "57                  Seafood, Serving Size (84 g/3 oz)  \n",
      "58                  Seafood, Serving Size (84 g/3 oz)  \n",
      "59                  Seafood, Serving Size (84 g/3 oz)  \n",
      "60                  Seafood, Serving Size (84 g/3 oz)  \n",
      "61                  Seafood, Serving Size (84 g/3 oz)  \n",
      "\n",
      "[62 rows x 24 columns]\n"
     ]
    }
   ],
   "source": [
    "data = pd.read_csv('NutritionalFacts.csv',encoding='latin-1')\n",
    "print(data)"
   ]
  },
  {
   "cell_type": "code",
   "execution_count": 4,
   "metadata": {
    "colab": {
     "base_uri": "https://localhost:8080/"
    },
    "id": "T9Y7KtnqRAcG",
    "outputId": "1b0841ca-8da8-4482-8d97-c4a53962e0e1"
   },
   "outputs": [
    {
     "data": {
      "text/plain": [
       "Food and Serving          object\n",
       "Calories                 float64\n",
       "CaloriesÊfrom Fat        float64\n",
       "Total Fat                 object\n",
       "Total Fat.1               object\n",
       "Sodium                    object\n",
       "Sodium.1                  object\n",
       "Potassium                 object\n",
       "Potassium.1               object\n",
       "Total Carbo-hydrate       object\n",
       "Total Carbo-hydrate.1     object\n",
       "Dietary Fiber             object\n",
       "Dietary Fiber.1           object\n",
       "Sugars                    object\n",
       "Protein                   object\n",
       "Vitamin A                 object\n",
       "Vitamin C                 object\n",
       "Calcium                   object\n",
       "ÊÊIronÊÊ                  object\n",
       "Saturated Fat             object\n",
       "Saturated Fat.1           object\n",
       "Chole-sterol              object\n",
       "Chole-sterol.1            object\n",
       "Food Type                 object\n",
       "dtype: object"
      ]
     },
     "execution_count": 4,
     "metadata": {},
     "output_type": "execute_result"
    }
   ],
   "source": [
    "data.dtypes"
   ]
  },
  {
   "cell_type": "code",
   "execution_count": 5,
   "metadata": {
    "id": "vMI7J4CJXCD7"
   },
   "outputs": [],
   "source": [
    "from sklearn.preprocessing import LabelEncoder"
   ]
  },
  {
   "cell_type": "code",
   "execution_count": 6,
   "metadata": {
    "colab": {
     "base_uri": "https://localhost:8080/",
     "height": 522
    },
    "id": "_PkKI0afXKT5",
    "outputId": "5e0b677e-ce53-48cc-a1ec-f57fae9264b4"
   },
   "outputs": [
    {
     "data": {
      "text/html": [
       "<div><div id=88f42ff4-a301-44a9-b4a8-5c2ab963300d style=\"display:none; background-color:#9D6CFF; color:white; width:200px; height:30px; padding-left:5px; border-radius:4px; flex-direction:row; justify-content:space-around; align-items:center;\" onmouseover=\"this.style.backgroundColor='#BA9BF8'\" onmouseout=\"this.style.backgroundColor='#9D6CFF'\" onclick=\"window.commands?.execute('create-mitosheet-from-dataframe-output');\">See Full Dataframe in Mito</div> <script> if (window.commands.hasCommand('create-mitosheet-from-dataframe-output')) document.getElementById('88f42ff4-a301-44a9-b4a8-5c2ab963300d').style.display = 'flex' </script> <table border=\"1\" class=\"dataframe\">\n",
       "  <thead>\n",
       "    <tr style=\"text-align: right;\">\n",
       "      <th></th>\n",
       "      <th>Food and Serving</th>\n",
       "      <th>Calories</th>\n",
       "      <th>CaloriesÊfrom Fat</th>\n",
       "      <th>Total Fat</th>\n",
       "      <th>Total Fat.1</th>\n",
       "      <th>Sodium</th>\n",
       "      <th>Sodium.1</th>\n",
       "      <th>Potassium</th>\n",
       "      <th>Potassium.1</th>\n",
       "      <th>Total Carbo-hydrate</th>\n",
       "      <th>...</th>\n",
       "      <th>Protein</th>\n",
       "      <th>Vitamin A</th>\n",
       "      <th>Vitamin C</th>\n",
       "      <th>Calcium</th>\n",
       "      <th>ÊÊIronÊÊ</th>\n",
       "      <th>Saturated Fat</th>\n",
       "      <th>Saturated Fat.1</th>\n",
       "      <th>Chole-sterol</th>\n",
       "      <th>Chole-sterol.1</th>\n",
       "      <th>Food Type</th>\n",
       "    </tr>\n",
       "  </thead>\n",
       "  <tbody>\n",
       "    <tr>\n",
       "      <th>0</th>\n",
       "      <td>61</td>\n",
       "      <td>NaN</td>\n",
       "      <td>NaN</td>\n",
       "      <td>(g)</td>\n",
       "      <td>(%DV)</td>\n",
       "      <td>(g)</td>\n",
       "      <td>(%DV)</td>\n",
       "      <td>(g)</td>\n",
       "      <td>(%DV)</td>\n",
       "      <td>(g)</td>\n",
       "      <td>...</td>\n",
       "      <td>(g)</td>\n",
       "      <td>(%DV)</td>\n",
       "      <td>(%DV)</td>\n",
       "      <td>(%DV)</td>\n",
       "      <td>(%DV)</td>\n",
       "      <td>(%DV)</td>\n",
       "      <td>(mg)Ê</td>\n",
       "      <td>(%DV)</td>\n",
       "      <td>(mg)Ê</td>\n",
       "      <td>3</td>\n",
       "    </tr>\n",
       "    <tr>\n",
       "      <th>1</th>\n",
       "      <td>1</td>\n",
       "      <td>20.0</td>\n",
       "      <td>0.0</td>\n",
       "      <td>0</td>\n",
       "      <td>0</td>\n",
       "      <td>0</td>\n",
       "      <td>0</td>\n",
       "      <td>230</td>\n",
       "      <td>7</td>\n",
       "      <td>4</td>\n",
       "      <td>...</td>\n",
       "      <td>2</td>\n",
       "      <td>10</td>\n",
       "      <td>15</td>\n",
       "      <td>2</td>\n",
       "      <td>2</td>\n",
       "      <td>NaN</td>\n",
       "      <td>NaN</td>\n",
       "      <td>NaN</td>\n",
       "      <td>NaN</td>\n",
       "      <td>2</td>\n",
       "    </tr>\n",
       "    <tr>\n",
       "      <th>2</th>\n",
       "      <td>4</td>\n",
       "      <td>25.0</td>\n",
       "      <td>0.0</td>\n",
       "      <td>0</td>\n",
       "      <td>0</td>\n",
       "      <td>40</td>\n",
       "      <td>2</td>\n",
       "      <td>220</td>\n",
       "      <td>6</td>\n",
       "      <td>6</td>\n",
       "      <td>...</td>\n",
       "      <td>1</td>\n",
       "      <td>4</td>\n",
       "      <td>190</td>\n",
       "      <td>2</td>\n",
       "      <td>4</td>\n",
       "      <td>NaN</td>\n",
       "      <td>NaN</td>\n",
       "      <td>NaN</td>\n",
       "      <td>NaN</td>\n",
       "      <td>2</td>\n",
       "    </tr>\n",
       "    <tr>\n",
       "      <th>3</th>\n",
       "      <td>6</td>\n",
       "      <td>45.0</td>\n",
       "      <td>0.0</td>\n",
       "      <td>0.5</td>\n",
       "      <td>1</td>\n",
       "      <td>80</td>\n",
       "      <td>3</td>\n",
       "      <td>460</td>\n",
       "      <td>13</td>\n",
       "      <td>8</td>\n",
       "      <td>...</td>\n",
       "      <td>4</td>\n",
       "      <td>6</td>\n",
       "      <td>220</td>\n",
       "      <td>6</td>\n",
       "      <td>6</td>\n",
       "      <td>NaN</td>\n",
       "      <td>NaN</td>\n",
       "      <td>NaN</td>\n",
       "      <td>NaN</td>\n",
       "      <td>2</td>\n",
       "    </tr>\n",
       "    <tr>\n",
       "      <th>4</th>\n",
       "      <td>8</td>\n",
       "      <td>30.0</td>\n",
       "      <td>0.0</td>\n",
       "      <td>0</td>\n",
       "      <td>0</td>\n",
       "      <td>60</td>\n",
       "      <td>3</td>\n",
       "      <td>250</td>\n",
       "      <td>7</td>\n",
       "      <td>7</td>\n",
       "      <td>...</td>\n",
       "      <td>1</td>\n",
       "      <td>110</td>\n",
       "      <td>10</td>\n",
       "      <td>2</td>\n",
       "      <td>2</td>\n",
       "      <td>NaN</td>\n",
       "      <td>NaN</td>\n",
       "      <td>NaN</td>\n",
       "      <td>NaN</td>\n",
       "      <td>2</td>\n",
       "    </tr>\n",
       "    <tr>\n",
       "      <th>...</th>\n",
       "      <td>...</td>\n",
       "      <td>...</td>\n",
       "      <td>...</td>\n",
       "      <td>...</td>\n",
       "      <td>...</td>\n",
       "      <td>...</td>\n",
       "      <td>...</td>\n",
       "      <td>...</td>\n",
       "      <td>...</td>\n",
       "      <td>...</td>\n",
       "      <td>...</td>\n",
       "      <td>...</td>\n",
       "      <td>...</td>\n",
       "      <td>...</td>\n",
       "      <td>...</td>\n",
       "      <td>...</td>\n",
       "      <td>...</td>\n",
       "      <td>...</td>\n",
       "      <td>...</td>\n",
       "      <td>...</td>\n",
       "      <td>...</td>\n",
       "    </tr>\n",
       "    <tr>\n",
       "      <th>57</th>\n",
       "      <td>48</td>\n",
       "      <td>140.0</td>\n",
       "      <td>10.0</td>\n",
       "      <td>1</td>\n",
       "      <td>2</td>\n",
       "      <td>310</td>\n",
       "      <td>13</td>\n",
       "      <td>430</td>\n",
       "      <td>12</td>\n",
       "      <td>5</td>\n",
       "      <td>...</td>\n",
       "      <td>27</td>\n",
       "      <td>2</td>\n",
       "      <td>0</td>\n",
       "      <td>4</td>\n",
       "      <td>14</td>\n",
       "      <td>0</td>\n",
       "      <td>0</td>\n",
       "      <td>65</td>\n",
       "      <td>22</td>\n",
       "      <td>1</td>\n",
       "    </tr>\n",
       "    <tr>\n",
       "      <th>58</th>\n",
       "      <td>49</td>\n",
       "      <td>100.0</td>\n",
       "      <td>10.0</td>\n",
       "      <td>1.5</td>\n",
       "      <td>2</td>\n",
       "      <td>240</td>\n",
       "      <td>10</td>\n",
       "      <td>220</td>\n",
       "      <td>6</td>\n",
       "      <td>0</td>\n",
       "      <td>...</td>\n",
       "      <td>21</td>\n",
       "      <td>4</td>\n",
       "      <td>4</td>\n",
       "      <td>6</td>\n",
       "      <td>10</td>\n",
       "      <td>0</td>\n",
       "      <td>0</td>\n",
       "      <td>170</td>\n",
       "      <td>57</td>\n",
       "      <td>1</td>\n",
       "    </tr>\n",
       "    <tr>\n",
       "      <th>59</th>\n",
       "      <td>55</td>\n",
       "      <td>120.0</td>\n",
       "      <td>50.0</td>\n",
       "      <td>6</td>\n",
       "      <td>9</td>\n",
       "      <td>100</td>\n",
       "      <td>4</td>\n",
       "      <td>310</td>\n",
       "      <td>9</td>\n",
       "      <td>0</td>\n",
       "      <td>...</td>\n",
       "      <td>16</td>\n",
       "      <td>2</td>\n",
       "      <td>2</td>\n",
       "      <td>0</td>\n",
       "      <td>6</td>\n",
       "      <td>1.5</td>\n",
       "      <td>8</td>\n",
       "      <td>40</td>\n",
       "      <td>13</td>\n",
       "      <td>1</td>\n",
       "    </tr>\n",
       "    <tr>\n",
       "      <th>60</th>\n",
       "      <td>57</td>\n",
       "      <td>110.0</td>\n",
       "      <td>20.0</td>\n",
       "      <td>2.5</td>\n",
       "      <td>4</td>\n",
       "      <td>30</td>\n",
       "      <td>1</td>\n",
       "      <td>360</td>\n",
       "      <td>10</td>\n",
       "      <td>0</td>\n",
       "      <td>...</td>\n",
       "      <td>22</td>\n",
       "      <td>0</td>\n",
       "      <td>2</td>\n",
       "      <td>0</td>\n",
       "      <td>2</td>\n",
       "      <td>1</td>\n",
       "      <td>5</td>\n",
       "      <td>75</td>\n",
       "      <td>25</td>\n",
       "      <td>1</td>\n",
       "    </tr>\n",
       "    <tr>\n",
       "      <th>61</th>\n",
       "      <td>59</td>\n",
       "      <td>130.0</td>\n",
       "      <td>15.0</td>\n",
       "      <td>1.5</td>\n",
       "      <td>2</td>\n",
       "      <td>40</td>\n",
       "      <td>2</td>\n",
       "      <td>480</td>\n",
       "      <td>14</td>\n",
       "      <td>0</td>\n",
       "      <td>...</td>\n",
       "      <td>26</td>\n",
       "      <td>2</td>\n",
       "      <td>2</td>\n",
       "      <td>2</td>\n",
       "      <td>4</td>\n",
       "      <td>0</td>\n",
       "      <td>0</td>\n",
       "      <td>50</td>\n",
       "      <td>17</td>\n",
       "      <td>1</td>\n",
       "    </tr>\n",
       "  </tbody>\n",
       "</table></div>"
      ],
      "text/plain": [
       "    Food and Serving  Calories  CaloriesÊfrom Fat Total Fat Total Fat.1  \\\n",
       "0                 61       NaN                NaN       (g)       (%DV)   \n",
       "1                  1      20.0                0.0         0           0   \n",
       "2                  4      25.0                0.0         0           0   \n",
       "3                  6      45.0                0.0       0.5           1   \n",
       "4                  8      30.0                0.0         0           0   \n",
       "..               ...       ...                ...       ...         ...   \n",
       "57                48     140.0               10.0         1           2   \n",
       "58                49     100.0               10.0       1.5           2   \n",
       "59                55     120.0               50.0         6           9   \n",
       "60                57     110.0               20.0       2.5           4   \n",
       "61                59     130.0               15.0       1.5           2   \n",
       "\n",
       "   Sodium Sodium.1 Potassium Potassium.1 Total Carbo-hydrate  ... Protein  \\\n",
       "0     (g)    (%DV)       (g)       (%DV)                 (g)  ...     (g)   \n",
       "1       0        0       230           7                   4  ...       2   \n",
       "2      40        2       220           6                   6  ...       1   \n",
       "3      80        3       460          13                   8  ...       4   \n",
       "4      60        3       250           7                   7  ...       1   \n",
       "..    ...      ...       ...         ...                 ...  ...     ...   \n",
       "57    310       13       430          12                   5  ...      27   \n",
       "58    240       10       220           6                   0  ...      21   \n",
       "59    100        4       310           9                   0  ...      16   \n",
       "60     30        1       360          10                   0  ...      22   \n",
       "61     40        2       480          14                   0  ...      26   \n",
       "\n",
       "   Vitamin A Vitamin C Calcium ÊÊIronÊÊ Saturated Fat Saturated Fat.1  \\\n",
       "0      (%DV)     (%DV)   (%DV)    (%DV)         (%DV)           (mg)Ê   \n",
       "1         10        15       2        2           NaN             NaN   \n",
       "2          4       190       2        4           NaN             NaN   \n",
       "3          6       220       6        6           NaN             NaN   \n",
       "4        110        10       2        2           NaN             NaN   \n",
       "..       ...       ...     ...      ...           ...             ...   \n",
       "57         2         0       4       14             0               0   \n",
       "58         4         4       6       10             0               0   \n",
       "59         2         2       0        6           1.5               8   \n",
       "60         0         2       0        2             1               5   \n",
       "61         2         2       2        4             0               0   \n",
       "\n",
       "   Chole-sterol Chole-sterol.1 Food Type  \n",
       "0         (%DV)          (mg)Ê         3  \n",
       "1           NaN            NaN         2  \n",
       "2           NaN            NaN         2  \n",
       "3           NaN            NaN         2  \n",
       "4           NaN            NaN         2  \n",
       "..          ...            ...       ...  \n",
       "57           65             22         1  \n",
       "58          170             57         1  \n",
       "59           40             13         1  \n",
       "60           75             25         1  \n",
       "61           50             17         1  \n",
       "\n",
       "[62 rows x 24 columns]"
      ]
     },
     "execution_count": 6,
     "metadata": {},
     "output_type": "execute_result"
    }
   ],
   "source": [
    "le = LabelEncoder()\n",
    "cols = ['Food and Serving', 'Food Type']\n",
    "data[cols] = data[cols].apply(LabelEncoder().fit_transform)\n",
    "data"
   ]
  },
  {
   "cell_type": "code",
   "execution_count": 7,
   "metadata": {
    "colab": {
     "base_uri": "https://localhost:8080/",
     "height": 334
    },
    "id": "si5rEj8BUd4h",
    "outputId": "82b51e59-79e7-4401-f1ca-a0293e5d8851"
   },
   "outputs": [
    {
     "data": {
      "text/html": [
       "<div><div id=ca308fca-99cb-4cd2-b1f3-4cf166518b39 style=\"display:none; background-color:#9D6CFF; color:white; width:200px; height:30px; padding-left:5px; border-radius:4px; flex-direction:row; justify-content:space-around; align-items:center;\" onmouseover=\"this.style.backgroundColor='#BA9BF8'\" onmouseout=\"this.style.backgroundColor='#9D6CFF'\" onclick=\"window.commands?.execute('create-mitosheet-from-dataframe-output');\">See Full Dataframe in Mito</div> <script> if (window.commands.hasCommand('create-mitosheet-from-dataframe-output')) document.getElementById('ca308fca-99cb-4cd2-b1f3-4cf166518b39').style.display = 'flex' </script> <table border=\"1\" class=\"dataframe\">\n",
       "  <thead>\n",
       "    <tr style=\"text-align: right;\">\n",
       "      <th></th>\n",
       "      <th>Food and Serving</th>\n",
       "      <th>Calories</th>\n",
       "      <th>CaloriesÊfrom Fat</th>\n",
       "      <th>Total Fat</th>\n",
       "      <th>Total Fat.1</th>\n",
       "      <th>Sodium</th>\n",
       "      <th>Sodium.1</th>\n",
       "      <th>Potassium</th>\n",
       "      <th>Potassium.1</th>\n",
       "      <th>Total Carbo-hydrate</th>\n",
       "      <th>...</th>\n",
       "      <th>Protein</th>\n",
       "      <th>Vitamin A</th>\n",
       "      <th>Vitamin C</th>\n",
       "      <th>Calcium</th>\n",
       "      <th>ÊÊIronÊÊ</th>\n",
       "      <th>Saturated Fat</th>\n",
       "      <th>Saturated Fat.1</th>\n",
       "      <th>Chole-sterol</th>\n",
       "      <th>Chole-sterol.1</th>\n",
       "      <th>Food Type</th>\n",
       "    </tr>\n",
       "  </thead>\n",
       "  <tbody>\n",
       "    <tr>\n",
       "      <th>0</th>\n",
       "      <td>61</td>\n",
       "      <td>NaN</td>\n",
       "      <td>NaN</td>\n",
       "      <td>(g)</td>\n",
       "      <td>(%DV)</td>\n",
       "      <td>(g)</td>\n",
       "      <td>(%DV)</td>\n",
       "      <td>(g)</td>\n",
       "      <td>(%DV)</td>\n",
       "      <td>(g)</td>\n",
       "      <td>...</td>\n",
       "      <td>(g)</td>\n",
       "      <td>(%DV)</td>\n",
       "      <td>(%DV)</td>\n",
       "      <td>(%DV)</td>\n",
       "      <td>(%DV)</td>\n",
       "      <td>(%DV)</td>\n",
       "      <td>(mg)Ê</td>\n",
       "      <td>(%DV)</td>\n",
       "      <td>(mg)Ê</td>\n",
       "      <td>3</td>\n",
       "    </tr>\n",
       "    <tr>\n",
       "      <th>1</th>\n",
       "      <td>1</td>\n",
       "      <td>20.0</td>\n",
       "      <td>0.0</td>\n",
       "      <td>0</td>\n",
       "      <td>0</td>\n",
       "      <td>0</td>\n",
       "      <td>0</td>\n",
       "      <td>230</td>\n",
       "      <td>7</td>\n",
       "      <td>4</td>\n",
       "      <td>...</td>\n",
       "      <td>2</td>\n",
       "      <td>10</td>\n",
       "      <td>15</td>\n",
       "      <td>2</td>\n",
       "      <td>2</td>\n",
       "      <td>NaN</td>\n",
       "      <td>NaN</td>\n",
       "      <td>NaN</td>\n",
       "      <td>NaN</td>\n",
       "      <td>2</td>\n",
       "    </tr>\n",
       "    <tr>\n",
       "      <th>2</th>\n",
       "      <td>4</td>\n",
       "      <td>25.0</td>\n",
       "      <td>0.0</td>\n",
       "      <td>0</td>\n",
       "      <td>0</td>\n",
       "      <td>40</td>\n",
       "      <td>2</td>\n",
       "      <td>220</td>\n",
       "      <td>6</td>\n",
       "      <td>6</td>\n",
       "      <td>...</td>\n",
       "      <td>1</td>\n",
       "      <td>4</td>\n",
       "      <td>190</td>\n",
       "      <td>2</td>\n",
       "      <td>4</td>\n",
       "      <td>NaN</td>\n",
       "      <td>NaN</td>\n",
       "      <td>NaN</td>\n",
       "      <td>NaN</td>\n",
       "      <td>2</td>\n",
       "    </tr>\n",
       "    <tr>\n",
       "      <th>3</th>\n",
       "      <td>6</td>\n",
       "      <td>45.0</td>\n",
       "      <td>0.0</td>\n",
       "      <td>0.5</td>\n",
       "      <td>1</td>\n",
       "      <td>80</td>\n",
       "      <td>3</td>\n",
       "      <td>460</td>\n",
       "      <td>13</td>\n",
       "      <td>8</td>\n",
       "      <td>...</td>\n",
       "      <td>4</td>\n",
       "      <td>6</td>\n",
       "      <td>220</td>\n",
       "      <td>6</td>\n",
       "      <td>6</td>\n",
       "      <td>NaN</td>\n",
       "      <td>NaN</td>\n",
       "      <td>NaN</td>\n",
       "      <td>NaN</td>\n",
       "      <td>2</td>\n",
       "    </tr>\n",
       "    <tr>\n",
       "      <th>4</th>\n",
       "      <td>8</td>\n",
       "      <td>30.0</td>\n",
       "      <td>0.0</td>\n",
       "      <td>0</td>\n",
       "      <td>0</td>\n",
       "      <td>60</td>\n",
       "      <td>3</td>\n",
       "      <td>250</td>\n",
       "      <td>7</td>\n",
       "      <td>7</td>\n",
       "      <td>...</td>\n",
       "      <td>1</td>\n",
       "      <td>110</td>\n",
       "      <td>10</td>\n",
       "      <td>2</td>\n",
       "      <td>2</td>\n",
       "      <td>NaN</td>\n",
       "      <td>NaN</td>\n",
       "      <td>NaN</td>\n",
       "      <td>NaN</td>\n",
       "      <td>2</td>\n",
       "    </tr>\n",
       "  </tbody>\n",
       "</table></div>"
      ],
      "text/plain": [
       "   Food and Serving  Calories  CaloriesÊfrom Fat Total Fat Total Fat.1 Sodium  \\\n",
       "0                61       NaN                NaN       (g)       (%DV)    (g)   \n",
       "1                 1      20.0                0.0         0           0      0   \n",
       "2                 4      25.0                0.0         0           0     40   \n",
       "3                 6      45.0                0.0       0.5           1     80   \n",
       "4                 8      30.0                0.0         0           0     60   \n",
       "\n",
       "  Sodium.1 Potassium Potassium.1 Total Carbo-hydrate  ... Protein Vitamin A  \\\n",
       "0    (%DV)       (g)       (%DV)                 (g)  ...     (g)     (%DV)   \n",
       "1        0       230           7                   4  ...       2        10   \n",
       "2        2       220           6                   6  ...       1         4   \n",
       "3        3       460          13                   8  ...       4         6   \n",
       "4        3       250           7                   7  ...       1       110   \n",
       "\n",
       "  Vitamin C Calcium ÊÊIronÊÊ Saturated Fat Saturated Fat.1 Chole-sterol  \\\n",
       "0     (%DV)   (%DV)    (%DV)         (%DV)           (mg)Ê        (%DV)   \n",
       "1        15       2        2           NaN             NaN          NaN   \n",
       "2       190       2        4           NaN             NaN          NaN   \n",
       "3       220       6        6           NaN             NaN          NaN   \n",
       "4        10       2        2           NaN             NaN          NaN   \n",
       "\n",
       "  Chole-sterol.1 Food Type  \n",
       "0          (mg)Ê         3  \n",
       "1            NaN         2  \n",
       "2            NaN         2  \n",
       "3            NaN         2  \n",
       "4            NaN         2  \n",
       "\n",
       "[5 rows x 24 columns]"
      ]
     },
     "execution_count": 7,
     "metadata": {},
     "output_type": "execute_result"
    }
   ],
   "source": [
    "data.head()"
   ]
  },
  {
   "cell_type": "code",
   "execution_count": 8,
   "metadata": {
    "colab": {
     "base_uri": "https://localhost:8080/",
     "height": 334
    },
    "id": "gzLS5dAbX5lp",
    "outputId": "de6227f8-71cf-43b0-f585-4170017b1f9a"
   },
   "outputs": [
    {
     "data": {
      "text/html": [
       "<div><div id=070161e2-f9ea-4b90-96a8-b52c3ee9a099 style=\"display:none; background-color:#9D6CFF; color:white; width:200px; height:30px; padding-left:5px; border-radius:4px; flex-direction:row; justify-content:space-around; align-items:center;\" onmouseover=\"this.style.backgroundColor='#BA9BF8'\" onmouseout=\"this.style.backgroundColor='#9D6CFF'\" onclick=\"window.commands?.execute('create-mitosheet-from-dataframe-output');\">See Full Dataframe in Mito</div> <script> if (window.commands.hasCommand('create-mitosheet-from-dataframe-output')) document.getElementById('070161e2-f9ea-4b90-96a8-b52c3ee9a099').style.display = 'flex' </script> <table border=\"1\" class=\"dataframe\">\n",
       "  <thead>\n",
       "    <tr style=\"text-align: right;\">\n",
       "      <th></th>\n",
       "      <th>Food and Serving</th>\n",
       "      <th>Calories</th>\n",
       "      <th>CaloriesÊfrom Fat</th>\n",
       "      <th>Total Fat</th>\n",
       "      <th>Total Fat.1</th>\n",
       "      <th>Sodium</th>\n",
       "      <th>Sodium.1</th>\n",
       "      <th>Potassium</th>\n",
       "      <th>Potassium.1</th>\n",
       "      <th>Total Carbo-hydrate</th>\n",
       "      <th>...</th>\n",
       "      <th>Protein</th>\n",
       "      <th>Vitamin A</th>\n",
       "      <th>Vitamin C</th>\n",
       "      <th>Calcium</th>\n",
       "      <th>ÊÊIronÊÊ</th>\n",
       "      <th>Saturated Fat</th>\n",
       "      <th>Saturated Fat.1</th>\n",
       "      <th>Chole-sterol</th>\n",
       "      <th>Chole-sterol.1</th>\n",
       "      <th>Food Type</th>\n",
       "    </tr>\n",
       "  </thead>\n",
       "  <tbody>\n",
       "    <tr>\n",
       "      <th>57</th>\n",
       "      <td>48</td>\n",
       "      <td>140.0</td>\n",
       "      <td>10.0</td>\n",
       "      <td>1</td>\n",
       "      <td>2</td>\n",
       "      <td>310</td>\n",
       "      <td>13</td>\n",
       "      <td>430</td>\n",
       "      <td>12</td>\n",
       "      <td>5</td>\n",
       "      <td>...</td>\n",
       "      <td>27</td>\n",
       "      <td>2</td>\n",
       "      <td>0</td>\n",
       "      <td>4</td>\n",
       "      <td>14</td>\n",
       "      <td>0</td>\n",
       "      <td>0</td>\n",
       "      <td>65</td>\n",
       "      <td>22</td>\n",
       "      <td>1</td>\n",
       "    </tr>\n",
       "    <tr>\n",
       "      <th>58</th>\n",
       "      <td>49</td>\n",
       "      <td>100.0</td>\n",
       "      <td>10.0</td>\n",
       "      <td>1.5</td>\n",
       "      <td>2</td>\n",
       "      <td>240</td>\n",
       "      <td>10</td>\n",
       "      <td>220</td>\n",
       "      <td>6</td>\n",
       "      <td>0</td>\n",
       "      <td>...</td>\n",
       "      <td>21</td>\n",
       "      <td>4</td>\n",
       "      <td>4</td>\n",
       "      <td>6</td>\n",
       "      <td>10</td>\n",
       "      <td>0</td>\n",
       "      <td>0</td>\n",
       "      <td>170</td>\n",
       "      <td>57</td>\n",
       "      <td>1</td>\n",
       "    </tr>\n",
       "    <tr>\n",
       "      <th>59</th>\n",
       "      <td>55</td>\n",
       "      <td>120.0</td>\n",
       "      <td>50.0</td>\n",
       "      <td>6</td>\n",
       "      <td>9</td>\n",
       "      <td>100</td>\n",
       "      <td>4</td>\n",
       "      <td>310</td>\n",
       "      <td>9</td>\n",
       "      <td>0</td>\n",
       "      <td>...</td>\n",
       "      <td>16</td>\n",
       "      <td>2</td>\n",
       "      <td>2</td>\n",
       "      <td>0</td>\n",
       "      <td>6</td>\n",
       "      <td>1.5</td>\n",
       "      <td>8</td>\n",
       "      <td>40</td>\n",
       "      <td>13</td>\n",
       "      <td>1</td>\n",
       "    </tr>\n",
       "    <tr>\n",
       "      <th>60</th>\n",
       "      <td>57</td>\n",
       "      <td>110.0</td>\n",
       "      <td>20.0</td>\n",
       "      <td>2.5</td>\n",
       "      <td>4</td>\n",
       "      <td>30</td>\n",
       "      <td>1</td>\n",
       "      <td>360</td>\n",
       "      <td>10</td>\n",
       "      <td>0</td>\n",
       "      <td>...</td>\n",
       "      <td>22</td>\n",
       "      <td>0</td>\n",
       "      <td>2</td>\n",
       "      <td>0</td>\n",
       "      <td>2</td>\n",
       "      <td>1</td>\n",
       "      <td>5</td>\n",
       "      <td>75</td>\n",
       "      <td>25</td>\n",
       "      <td>1</td>\n",
       "    </tr>\n",
       "    <tr>\n",
       "      <th>61</th>\n",
       "      <td>59</td>\n",
       "      <td>130.0</td>\n",
       "      <td>15.0</td>\n",
       "      <td>1.5</td>\n",
       "      <td>2</td>\n",
       "      <td>40</td>\n",
       "      <td>2</td>\n",
       "      <td>480</td>\n",
       "      <td>14</td>\n",
       "      <td>0</td>\n",
       "      <td>...</td>\n",
       "      <td>26</td>\n",
       "      <td>2</td>\n",
       "      <td>2</td>\n",
       "      <td>2</td>\n",
       "      <td>4</td>\n",
       "      <td>0</td>\n",
       "      <td>0</td>\n",
       "      <td>50</td>\n",
       "      <td>17</td>\n",
       "      <td>1</td>\n",
       "    </tr>\n",
       "  </tbody>\n",
       "</table></div>"
      ],
      "text/plain": [
       "    Food and Serving  Calories  CaloriesÊfrom Fat Total Fat Total Fat.1  \\\n",
       "57                48     140.0               10.0         1           2   \n",
       "58                49     100.0               10.0       1.5           2   \n",
       "59                55     120.0               50.0         6           9   \n",
       "60                57     110.0               20.0       2.5           4   \n",
       "61                59     130.0               15.0       1.5           2   \n",
       "\n",
       "   Sodium Sodium.1 Potassium Potassium.1 Total Carbo-hydrate  ... Protein  \\\n",
       "57    310       13       430          12                   5  ...      27   \n",
       "58    240       10       220           6                   0  ...      21   \n",
       "59    100        4       310           9                   0  ...      16   \n",
       "60     30        1       360          10                   0  ...      22   \n",
       "61     40        2       480          14                   0  ...      26   \n",
       "\n",
       "   Vitamin A Vitamin C Calcium ÊÊIronÊÊ Saturated Fat Saturated Fat.1  \\\n",
       "57         2         0       4       14             0               0   \n",
       "58         4         4       6       10             0               0   \n",
       "59         2         2       0        6           1.5               8   \n",
       "60         0         2       0        2             1               5   \n",
       "61         2         2       2        4             0               0   \n",
       "\n",
       "   Chole-sterol Chole-sterol.1 Food Type  \n",
       "57           65             22         1  \n",
       "58          170             57         1  \n",
       "59           40             13         1  \n",
       "60           75             25         1  \n",
       "61           50             17         1  \n",
       "\n",
       "[5 rows x 24 columns]"
      ]
     },
     "execution_count": 8,
     "metadata": {},
     "output_type": "execute_result"
    }
   ],
   "source": [
    "data.tail()"
   ]
  },
  {
   "cell_type": "code",
   "execution_count": 9,
   "metadata": {
    "colab": {
     "base_uri": "https://localhost:8080/"
    },
    "id": "QrQSiFHURAf5",
    "outputId": "aa958e83-deee-4da1-efbf-ac4726eb4213"
   },
   "outputs": [
    {
     "name": "stdout",
     "output_type": "stream",
     "text": [
      "(62, 24)\n",
      "       Food and Serving    Calories  CaloriesÊfrom Fat  Food Type\n",
      "count         62.000000   61.000000          61.000000  62.000000\n",
      "mean          30.500000   72.540984           9.344262   1.032258\n",
      "std           18.041619   43.690416          17.523209   0.848678\n",
      "min            0.000000   10.000000           0.000000   0.000000\n",
      "25%           15.250000   25.000000           0.000000   0.000000\n",
      "50%           30.500000   80.000000           0.000000   1.000000\n",
      "75%           45.750000  100.000000          10.000000   2.000000\n",
      "max           61.000000  200.000000          90.000000   3.000000\n"
     ]
    }
   ],
   "source": [
    "print(data.shape)\n",
    "print(data.describe())"
   ]
  },
  {
   "cell_type": "code",
   "execution_count": 10,
   "metadata": {
    "colab": {
     "base_uri": "https://localhost:8080/"
    },
    "id": "-3WwArC2X9mj",
    "outputId": "6b9c4d32-fbb8-4693-e6aa-aa784bce168b"
   },
   "outputs": [
    {
     "data": {
      "text/plain": [
       "Food and Serving           int64\n",
       "Calories                 float64\n",
       "CaloriesÊfrom Fat        float64\n",
       "Total Fat                 object\n",
       "Total Fat.1               object\n",
       "Sodium                    object\n",
       "Sodium.1                  object\n",
       "Potassium                 object\n",
       "Potassium.1               object\n",
       "Total Carbo-hydrate       object\n",
       "Total Carbo-hydrate.1     object\n",
       "Dietary Fiber             object\n",
       "Dietary Fiber.1           object\n",
       "Sugars                    object\n",
       "Protein                   object\n",
       "Vitamin A                 object\n",
       "Vitamin C                 object\n",
       "Calcium                   object\n",
       "ÊÊIronÊÊ                  object\n",
       "Saturated Fat             object\n",
       "Saturated Fat.1           object\n",
       "Chole-sterol              object\n",
       "Chole-sterol.1            object\n",
       "Food Type                  int64\n",
       "dtype: object"
      ]
     },
     "execution_count": 10,
     "metadata": {},
     "output_type": "execute_result"
    }
   ],
   "source": [
    "data.dtypes"
   ]
  },
  {
   "cell_type": "code",
   "execution_count": 11,
   "metadata": {
    "colab": {
     "base_uri": "https://localhost:8080/"
    },
    "id": "0vVkpMhaRAjY",
    "outputId": "7617b259-a389-468c-97e9-39662631429f"
   },
   "outputs": [
    {
     "data": {
      "text/plain": [
       "Food and Serving          0\n",
       "Calories                  1\n",
       "CaloriesÊfrom Fat         1\n",
       "Total Fat                 0\n",
       "Total Fat.1               0\n",
       "Sodium                    0\n",
       "Sodium.1                  0\n",
       "Potassium                 0\n",
       "Potassium.1               0\n",
       "Total Carbo-hydrate       0\n",
       "Total Carbo-hydrate.1     0\n",
       "Dietary Fiber            21\n",
       "Dietary Fiber.1          21\n",
       "Sugars                   21\n",
       "Protein                   0\n",
       "Vitamin A                 0\n",
       "Vitamin C                 0\n",
       "Calcium                   0\n",
       "ÊÊIronÊÊ                  0\n",
       "Saturated Fat            40\n",
       "Saturated Fat.1          40\n",
       "Chole-sterol             40\n",
       "Chole-sterol.1           40\n",
       "Food Type                 0\n",
       "dtype: int64"
      ]
     },
     "execution_count": 11,
     "metadata": {},
     "output_type": "execute_result"
    }
   ],
   "source": [
    "data.isnull().sum()"
   ]
  },
  {
   "cell_type": "code",
   "execution_count": 12,
   "metadata": {
    "id": "SGbiTKJFbFsb"
   },
   "outputs": [],
   "source": [
    "data['Dietary Fiber'] = data['Dietary Fiber'].fillna(0)\n",
    "data['Dietary Fiber.1'] = data['Dietary Fiber.1'].fillna(0)\n",
    "data['Sugars'] = data['Sugars'].fillna(0)\n",
    "data['Saturated Fat'] = data['Saturated Fat'].fillna(0)\n",
    "data['Saturated Fat.1'] = data['Saturated Fat.1'].fillna(0)\n",
    "data['Chole-sterol'] = data['Chole-sterol'].fillna(0)\n",
    "data['Chole-sterol.1'] = data['Chole-sterol.1'].fillna(0)"
   ]
  },
  {
   "cell_type": "code",
   "execution_count": 13,
   "metadata": {
    "colab": {
     "base_uri": "https://localhost:8080/"
    },
    "id": "uVfbMQoTcWcl",
    "outputId": "1fb80799-57dc-4ef0-e883-f23c64d5b708"
   },
   "outputs": [
    {
     "data": {
      "text/plain": [
       "Food and Serving         0\n",
       "Calories                 1\n",
       "CaloriesÊfrom Fat        1\n",
       "Total Fat                0\n",
       "Total Fat.1              0\n",
       "Sodium                   0\n",
       "Sodium.1                 0\n",
       "Potassium                0\n",
       "Potassium.1              0\n",
       "Total Carbo-hydrate      0\n",
       "Total Carbo-hydrate.1    0\n",
       "Dietary Fiber            0\n",
       "Dietary Fiber.1          0\n",
       "Sugars                   0\n",
       "Protein                  0\n",
       "Vitamin A                0\n",
       "Vitamin C                0\n",
       "Calcium                  0\n",
       "ÊÊIronÊÊ                 0\n",
       "Saturated Fat            0\n",
       "Saturated Fat.1          0\n",
       "Chole-sterol             0\n",
       "Chole-sterol.1           0\n",
       "Food Type                0\n",
       "dtype: int64"
      ]
     },
     "execution_count": 13,
     "metadata": {},
     "output_type": "execute_result"
    }
   ],
   "source": [
    "data.isnull().sum()"
   ]
  },
  {
   "cell_type": "code",
   "execution_count": 14,
   "metadata": {
    "colab": {
     "base_uri": "https://localhost:8080/",
     "height": 522
    },
    "id": "LwFE03aycauR",
    "outputId": "f337a489-137c-406c-b553-94947f57a28d"
   },
   "outputs": [
    {
     "data": {
      "text/html": [
       "<div><div id=887af5d7-920d-4b7c-b52a-fb6da615d819 style=\"display:none; background-color:#9D6CFF; color:white; width:200px; height:30px; padding-left:5px; border-radius:4px; flex-direction:row; justify-content:space-around; align-items:center;\" onmouseover=\"this.style.backgroundColor='#BA9BF8'\" onmouseout=\"this.style.backgroundColor='#9D6CFF'\" onclick=\"window.commands?.execute('create-mitosheet-from-dataframe-output');\">See Full Dataframe in Mito</div> <script> if (window.commands.hasCommand('create-mitosheet-from-dataframe-output')) document.getElementById('887af5d7-920d-4b7c-b52a-fb6da615d819').style.display = 'flex' </script> <table border=\"1\" class=\"dataframe\">\n",
       "  <thead>\n",
       "    <tr style=\"text-align: right;\">\n",
       "      <th></th>\n",
       "      <th>Food and Serving</th>\n",
       "      <th>Calories</th>\n",
       "      <th>CaloriesÊfrom Fat</th>\n",
       "      <th>Total Fat</th>\n",
       "      <th>Total Fat.1</th>\n",
       "      <th>Sodium</th>\n",
       "      <th>Sodium.1</th>\n",
       "      <th>Potassium</th>\n",
       "      <th>Potassium.1</th>\n",
       "      <th>Total Carbo-hydrate</th>\n",
       "      <th>...</th>\n",
       "      <th>Protein</th>\n",
       "      <th>Vitamin A</th>\n",
       "      <th>Vitamin C</th>\n",
       "      <th>Calcium</th>\n",
       "      <th>ÊÊIronÊÊ</th>\n",
       "      <th>Saturated Fat</th>\n",
       "      <th>Saturated Fat.1</th>\n",
       "      <th>Chole-sterol</th>\n",
       "      <th>Chole-sterol.1</th>\n",
       "      <th>Food Type</th>\n",
       "    </tr>\n",
       "  </thead>\n",
       "  <tbody>\n",
       "    <tr>\n",
       "      <th>0</th>\n",
       "      <td>61</td>\n",
       "      <td>NaN</td>\n",
       "      <td>NaN</td>\n",
       "      <td>(g)</td>\n",
       "      <td>(%DV)</td>\n",
       "      <td>(g)</td>\n",
       "      <td>(%DV)</td>\n",
       "      <td>(g)</td>\n",
       "      <td>(%DV)</td>\n",
       "      <td>(g)</td>\n",
       "      <td>...</td>\n",
       "      <td>(g)</td>\n",
       "      <td>(%DV)</td>\n",
       "      <td>(%DV)</td>\n",
       "      <td>(%DV)</td>\n",
       "      <td>(%DV)</td>\n",
       "      <td>(%DV)</td>\n",
       "      <td>(mg)Ê</td>\n",
       "      <td>(%DV)</td>\n",
       "      <td>(mg)Ê</td>\n",
       "      <td>3</td>\n",
       "    </tr>\n",
       "    <tr>\n",
       "      <th>1</th>\n",
       "      <td>1</td>\n",
       "      <td>20.0</td>\n",
       "      <td>0.0</td>\n",
       "      <td>0</td>\n",
       "      <td>0</td>\n",
       "      <td>0</td>\n",
       "      <td>0</td>\n",
       "      <td>230</td>\n",
       "      <td>7</td>\n",
       "      <td>4</td>\n",
       "      <td>...</td>\n",
       "      <td>2</td>\n",
       "      <td>10</td>\n",
       "      <td>15</td>\n",
       "      <td>2</td>\n",
       "      <td>2</td>\n",
       "      <td>0</td>\n",
       "      <td>0</td>\n",
       "      <td>0</td>\n",
       "      <td>0</td>\n",
       "      <td>2</td>\n",
       "    </tr>\n",
       "    <tr>\n",
       "      <th>2</th>\n",
       "      <td>4</td>\n",
       "      <td>25.0</td>\n",
       "      <td>0.0</td>\n",
       "      <td>0</td>\n",
       "      <td>0</td>\n",
       "      <td>40</td>\n",
       "      <td>2</td>\n",
       "      <td>220</td>\n",
       "      <td>6</td>\n",
       "      <td>6</td>\n",
       "      <td>...</td>\n",
       "      <td>1</td>\n",
       "      <td>4</td>\n",
       "      <td>190</td>\n",
       "      <td>2</td>\n",
       "      <td>4</td>\n",
       "      <td>0</td>\n",
       "      <td>0</td>\n",
       "      <td>0</td>\n",
       "      <td>0</td>\n",
       "      <td>2</td>\n",
       "    </tr>\n",
       "    <tr>\n",
       "      <th>3</th>\n",
       "      <td>6</td>\n",
       "      <td>45.0</td>\n",
       "      <td>0.0</td>\n",
       "      <td>0.5</td>\n",
       "      <td>1</td>\n",
       "      <td>80</td>\n",
       "      <td>3</td>\n",
       "      <td>460</td>\n",
       "      <td>13</td>\n",
       "      <td>8</td>\n",
       "      <td>...</td>\n",
       "      <td>4</td>\n",
       "      <td>6</td>\n",
       "      <td>220</td>\n",
       "      <td>6</td>\n",
       "      <td>6</td>\n",
       "      <td>0</td>\n",
       "      <td>0</td>\n",
       "      <td>0</td>\n",
       "      <td>0</td>\n",
       "      <td>2</td>\n",
       "    </tr>\n",
       "    <tr>\n",
       "      <th>4</th>\n",
       "      <td>8</td>\n",
       "      <td>30.0</td>\n",
       "      <td>0.0</td>\n",
       "      <td>0</td>\n",
       "      <td>0</td>\n",
       "      <td>60</td>\n",
       "      <td>3</td>\n",
       "      <td>250</td>\n",
       "      <td>7</td>\n",
       "      <td>7</td>\n",
       "      <td>...</td>\n",
       "      <td>1</td>\n",
       "      <td>110</td>\n",
       "      <td>10</td>\n",
       "      <td>2</td>\n",
       "      <td>2</td>\n",
       "      <td>0</td>\n",
       "      <td>0</td>\n",
       "      <td>0</td>\n",
       "      <td>0</td>\n",
       "      <td>2</td>\n",
       "    </tr>\n",
       "    <tr>\n",
       "      <th>...</th>\n",
       "      <td>...</td>\n",
       "      <td>...</td>\n",
       "      <td>...</td>\n",
       "      <td>...</td>\n",
       "      <td>...</td>\n",
       "      <td>...</td>\n",
       "      <td>...</td>\n",
       "      <td>...</td>\n",
       "      <td>...</td>\n",
       "      <td>...</td>\n",
       "      <td>...</td>\n",
       "      <td>...</td>\n",
       "      <td>...</td>\n",
       "      <td>...</td>\n",
       "      <td>...</td>\n",
       "      <td>...</td>\n",
       "      <td>...</td>\n",
       "      <td>...</td>\n",
       "      <td>...</td>\n",
       "      <td>...</td>\n",
       "      <td>...</td>\n",
       "    </tr>\n",
       "    <tr>\n",
       "      <th>57</th>\n",
       "      <td>48</td>\n",
       "      <td>140.0</td>\n",
       "      <td>10.0</td>\n",
       "      <td>1</td>\n",
       "      <td>2</td>\n",
       "      <td>310</td>\n",
       "      <td>13</td>\n",
       "      <td>430</td>\n",
       "      <td>12</td>\n",
       "      <td>5</td>\n",
       "      <td>...</td>\n",
       "      <td>27</td>\n",
       "      <td>2</td>\n",
       "      <td>0</td>\n",
       "      <td>4</td>\n",
       "      <td>14</td>\n",
       "      <td>0</td>\n",
       "      <td>0</td>\n",
       "      <td>65</td>\n",
       "      <td>22</td>\n",
       "      <td>1</td>\n",
       "    </tr>\n",
       "    <tr>\n",
       "      <th>58</th>\n",
       "      <td>49</td>\n",
       "      <td>100.0</td>\n",
       "      <td>10.0</td>\n",
       "      <td>1.5</td>\n",
       "      <td>2</td>\n",
       "      <td>240</td>\n",
       "      <td>10</td>\n",
       "      <td>220</td>\n",
       "      <td>6</td>\n",
       "      <td>0</td>\n",
       "      <td>...</td>\n",
       "      <td>21</td>\n",
       "      <td>4</td>\n",
       "      <td>4</td>\n",
       "      <td>6</td>\n",
       "      <td>10</td>\n",
       "      <td>0</td>\n",
       "      <td>0</td>\n",
       "      <td>170</td>\n",
       "      <td>57</td>\n",
       "      <td>1</td>\n",
       "    </tr>\n",
       "    <tr>\n",
       "      <th>59</th>\n",
       "      <td>55</td>\n",
       "      <td>120.0</td>\n",
       "      <td>50.0</td>\n",
       "      <td>6</td>\n",
       "      <td>9</td>\n",
       "      <td>100</td>\n",
       "      <td>4</td>\n",
       "      <td>310</td>\n",
       "      <td>9</td>\n",
       "      <td>0</td>\n",
       "      <td>...</td>\n",
       "      <td>16</td>\n",
       "      <td>2</td>\n",
       "      <td>2</td>\n",
       "      <td>0</td>\n",
       "      <td>6</td>\n",
       "      <td>1.5</td>\n",
       "      <td>8</td>\n",
       "      <td>40</td>\n",
       "      <td>13</td>\n",
       "      <td>1</td>\n",
       "    </tr>\n",
       "    <tr>\n",
       "      <th>60</th>\n",
       "      <td>57</td>\n",
       "      <td>110.0</td>\n",
       "      <td>20.0</td>\n",
       "      <td>2.5</td>\n",
       "      <td>4</td>\n",
       "      <td>30</td>\n",
       "      <td>1</td>\n",
       "      <td>360</td>\n",
       "      <td>10</td>\n",
       "      <td>0</td>\n",
       "      <td>...</td>\n",
       "      <td>22</td>\n",
       "      <td>0</td>\n",
       "      <td>2</td>\n",
       "      <td>0</td>\n",
       "      <td>2</td>\n",
       "      <td>1</td>\n",
       "      <td>5</td>\n",
       "      <td>75</td>\n",
       "      <td>25</td>\n",
       "      <td>1</td>\n",
       "    </tr>\n",
       "    <tr>\n",
       "      <th>61</th>\n",
       "      <td>59</td>\n",
       "      <td>130.0</td>\n",
       "      <td>15.0</td>\n",
       "      <td>1.5</td>\n",
       "      <td>2</td>\n",
       "      <td>40</td>\n",
       "      <td>2</td>\n",
       "      <td>480</td>\n",
       "      <td>14</td>\n",
       "      <td>0</td>\n",
       "      <td>...</td>\n",
       "      <td>26</td>\n",
       "      <td>2</td>\n",
       "      <td>2</td>\n",
       "      <td>2</td>\n",
       "      <td>4</td>\n",
       "      <td>0</td>\n",
       "      <td>0</td>\n",
       "      <td>50</td>\n",
       "      <td>17</td>\n",
       "      <td>1</td>\n",
       "    </tr>\n",
       "  </tbody>\n",
       "</table></div>"
      ],
      "text/plain": [
       "    Food and Serving  Calories  CaloriesÊfrom Fat Total Fat Total Fat.1  \\\n",
       "0                 61       NaN                NaN       (g)       (%DV)   \n",
       "1                  1      20.0                0.0         0           0   \n",
       "2                  4      25.0                0.0         0           0   \n",
       "3                  6      45.0                0.0       0.5           1   \n",
       "4                  8      30.0                0.0         0           0   \n",
       "..               ...       ...                ...       ...         ...   \n",
       "57                48     140.0               10.0         1           2   \n",
       "58                49     100.0               10.0       1.5           2   \n",
       "59                55     120.0               50.0         6           9   \n",
       "60                57     110.0               20.0       2.5           4   \n",
       "61                59     130.0               15.0       1.5           2   \n",
       "\n",
       "   Sodium Sodium.1 Potassium Potassium.1 Total Carbo-hydrate  ... Protein  \\\n",
       "0     (g)    (%DV)       (g)       (%DV)                 (g)  ...     (g)   \n",
       "1       0        0       230           7                   4  ...       2   \n",
       "2      40        2       220           6                   6  ...       1   \n",
       "3      80        3       460          13                   8  ...       4   \n",
       "4      60        3       250           7                   7  ...       1   \n",
       "..    ...      ...       ...         ...                 ...  ...     ...   \n",
       "57    310       13       430          12                   5  ...      27   \n",
       "58    240       10       220           6                   0  ...      21   \n",
       "59    100        4       310           9                   0  ...      16   \n",
       "60     30        1       360          10                   0  ...      22   \n",
       "61     40        2       480          14                   0  ...      26   \n",
       "\n",
       "   Vitamin A Vitamin C Calcium ÊÊIronÊÊ Saturated Fat Saturated Fat.1  \\\n",
       "0      (%DV)     (%DV)   (%DV)    (%DV)         (%DV)           (mg)Ê   \n",
       "1         10        15       2        2             0               0   \n",
       "2          4       190       2        4             0               0   \n",
       "3          6       220       6        6             0               0   \n",
       "4        110        10       2        2             0               0   \n",
       "..       ...       ...     ...      ...           ...             ...   \n",
       "57         2         0       4       14             0               0   \n",
       "58         4         4       6       10             0               0   \n",
       "59         2         2       0        6           1.5               8   \n",
       "60         0         2       0        2             1               5   \n",
       "61         2         2       2        4             0               0   \n",
       "\n",
       "   Chole-sterol Chole-sterol.1 Food Type  \n",
       "0         (%DV)          (mg)Ê         3  \n",
       "1             0              0         2  \n",
       "2             0              0         2  \n",
       "3             0              0         2  \n",
       "4             0              0         2  \n",
       "..          ...            ...       ...  \n",
       "57           65             22         1  \n",
       "58          170             57         1  \n",
       "59           40             13         1  \n",
       "60           75             25         1  \n",
       "61           50             17         1  \n",
       "\n",
       "[62 rows x 24 columns]"
      ]
     },
     "execution_count": 14,
     "metadata": {},
     "output_type": "execute_result"
    }
   ],
   "source": [
    "data"
   ]
  },
  {
   "cell_type": "code",
   "execution_count": 15,
   "metadata": {
    "colab": {
     "base_uri": "https://localhost:8080/"
    },
    "id": "qXRZsnIMiuci",
    "outputId": "50404685-9926-48a7-e38d-a70bec998780"
   },
   "outputs": [
    {
     "data": {
      "text/plain": [
       "Food and Serving            2\n",
       "Calories                 50.0\n",
       "CaloriesÊfrom Fat        35.0\n",
       "Total Fat                 4.5\n",
       "Total Fat.1                 7\n",
       "Sodium                      0\n",
       "Sodium.1                    0\n",
       "Potassium                 140\n",
       "Potassium.1                 4\n",
       "Total Carbo-hydrate         3\n",
       "Total Carbo-hydrate.1       1\n",
       "Dietary Fiber               1\n",
       "Dietary Fiber.1             4\n",
       "Sugars                      0\n",
       "Protein                     1\n",
       "Vitamin A                   0\n",
       "Vitamin C                   4\n",
       "Calcium                     0\n",
       "ÊÊIronÊÊ                    2\n",
       "Saturated Fat               0\n",
       "Saturated Fat.1             0\n",
       "Chole-sterol                0\n",
       "Chole-sterol.1              0\n",
       "Food Type                   0\n",
       "Name: 22, dtype: object"
      ]
     },
     "execution_count": 15,
     "metadata": {},
     "output_type": "execute_result"
    }
   ],
   "source": [
    "data.iloc[22,:]"
   ]
  },
  {
   "cell_type": "code",
   "execution_count": 16,
   "metadata": {
    "colab": {
     "base_uri": "https://localhost:8080/"
    },
    "id": "sgUvzdU5i5Tw",
    "outputId": "b034852a-81d3-420d-9f29-4899a471a462"
   },
   "outputs": [
    {
     "data": {
      "text/plain": [
       "Food and Serving            4\n",
       "Calories                 25.0\n",
       "CaloriesÊfrom Fat         0.0\n",
       "Total Fat                   0\n",
       "Total Fat.1                 0\n",
       "Sodium                     40\n",
       "Sodium.1                    2\n",
       "Potassium                 220\n",
       "Potassium.1                 6\n",
       "Total Carbo-hydrate         6\n",
       "Total Carbo-hydrate.1       2\n",
       "Dietary Fiber               2\n",
       "Dietary Fiber.1             8\n",
       "Sugars                      4\n",
       "Protein                     1\n",
       "Vitamin A                   4\n",
       "Vitamin C                 190\n",
       "Calcium                     2\n",
       "ÊÊIronÊÊ                    4\n",
       "Saturated Fat               0\n",
       "Saturated Fat.1             0\n",
       "Chole-sterol                0\n",
       "Chole-sterol.1              0\n",
       "Food Type                   2\n",
       "Name: 2, dtype: object"
      ]
     },
     "execution_count": 16,
     "metadata": {},
     "output_type": "execute_result"
    }
   ],
   "source": [
    "data.iloc[2,:]"
   ]
  },
  {
   "cell_type": "code",
   "execution_count": 17,
   "metadata": {
    "colab": {
     "base_uri": "https://localhost:8080/"
    },
    "id": "UOknffQrcd-T",
    "outputId": "2fa3d50b-39bc-46b5-e265-528fe5fa164b"
   },
   "outputs": [
    {
     "data": {
      "text/plain": [
       "Index(['Food and Serving', 'Calories', 'CaloriesÊfrom Fat', 'Total Fat',\n",
       "       'Total Fat.1', 'Sodium', 'Sodium.1', 'Potassium', 'Potassium.1',\n",
       "       'Total Carbo-hydrate', 'Total Carbo-hydrate.1', 'Dietary Fiber',\n",
       "       'Dietary Fiber.1', 'Sugars', 'Protein', 'Vitamin A', 'Vitamin C',\n",
       "       'Calcium', 'ÊÊIronÊÊ', 'Saturated Fat', 'Saturated Fat.1',\n",
       "       'Chole-sterol', 'Chole-sterol.1', 'Food Type'],\n",
       "      dtype='object')"
      ]
     },
     "execution_count": 17,
     "metadata": {},
     "output_type": "execute_result"
    }
   ],
   "source": [
    "data.columns"
   ]
  },
  {
   "cell_type": "code",
   "execution_count": 18,
   "metadata": {
    "colab": {
     "base_uri": "https://localhost:8080/"
    },
    "id": "ZDrfYU8Hgh8q",
    "outputId": "2782646c-0b4c-4c16-edca-dbd9adf0907a"
   },
   "outputs": [
    {
     "name": "stdout",
     "output_type": "stream",
     "text": [
      "Fruits ServingÊSize (gramÊweight/ounceÊweight) 32.26 % of the dataset\n",
      "Seafood, Serving Size (84 g/3 oz) 33.87 % of the dataset\n",
      "Vegetables, Serving Size (gram weight/Êounce weight) 32.26 % of the dataset\n"
     ]
    }
   ],
   "source": [
    "print('Fruits ServingÊSize (gramÊweight/ounceÊweight)', round(data['Food Type'].value_counts()[0]/len(data) * 100,2), '% of the dataset')\n",
    "print('Seafood, Serving Size (84 g/3 oz)', round(data['Food Type'].value_counts()[1]/len(data) * 100,2), '% of the dataset')\n",
    "print('Vegetables, Serving Size (gram weight/Êounce weight)', round(data['Food Type'].value_counts()[2]/len(data) * 100,2), '% of the dataset')"
   ]
  },
  {
   "cell_type": "code",
   "execution_count": 19,
   "metadata": {
    "colab": {
     "base_uri": "https://localhost:8080/"
    },
    "id": "gqqpEbFKjuXR",
    "outputId": "1a91cd39-0691-4372-d5e3-75fa0aa78cfe"
   },
   "outputs": [
    {
     "name": "stdout",
     "output_type": "stream",
     "text": [
      "Number of fruits : 20\n",
      "Number of seafoods: 21\n",
      "number of vegetables: 20\n"
     ]
    }
   ],
   "source": [
    "fruits = data[data['Food Type'] == 0]\n",
    "seafood = data[data['Food Type'] == 1]\n",
    "Vegetables = data[data['Food Type'] == 2]\n",
    "print('Number of fruits : {}'.format(len(data[data['Food Type'] == 0])))\n",
    "print('Number of seafoods: {}'.format(len(data[data['Food Type'] == 1])))\n",
    "print('number of vegetables: {}'.format(len(data[data['Food Type'] == 2])))"
   ]
  },
  {
   "cell_type": "code",
   "execution_count": 20,
   "metadata": {
    "colab": {
     "base_uri": "https://localhost:8080/"
    },
    "id": "D0yJg_-ok0dq",
    "outputId": "0c34a354-ef5f-40ee-fda2-8c27802c2db2"
   },
   "outputs": [
    {
     "name": "stdout",
     "output_type": "stream",
     "text": [
      "details of fruits\n"
     ]
    },
    {
     "data": {
      "text/plain": [
       "count     20.000000\n",
       "mean      68.250000\n",
       "std       29.167168\n",
       "min       15.000000\n",
       "25%       50.000000\n",
       "50%       60.000000\n",
       "75%       90.000000\n",
       "max      130.000000\n",
       "Name: Calories, dtype: float64"
      ]
     },
     "execution_count": 20,
     "metadata": {},
     "output_type": "execute_result"
    }
   ],
   "source": [
    "print('details of fruits')\n",
    "fruits.Calories.describe()"
   ]
  },
  {
   "cell_type": "code",
   "execution_count": 21,
   "metadata": {
    "colab": {
     "base_uri": "https://localhost:8080/"
    },
    "id": "jh1no8Z1lNJW",
    "outputId": "1efe6830-46b7-4751-c222-734bf4e6c377"
   },
   "outputs": [
    {
     "name": "stdout",
     "output_type": "stream",
     "text": [
      "details of seafoods\n"
     ]
    },
    {
     "data": {
      "text/plain": [
       "count     21.000000\n",
       "mean     113.809524\n",
       "std       26.547352\n",
       "min       80.000000\n",
       "25%      100.000000\n",
       "50%      110.000000\n",
       "75%      130.000000\n",
       "max      200.000000\n",
       "Name: Calories, dtype: float64"
      ]
     },
     "execution_count": 21,
     "metadata": {},
     "output_type": "execute_result"
    }
   ],
   "source": [
    "print('details of seafoods')\n",
    "seafood.Calories.describe()"
   ]
  },
  {
   "cell_type": "code",
   "execution_count": 22,
   "metadata": {
    "colab": {
     "base_uri": "https://localhost:8080/"
    },
    "id": "AaqhPkvQlTkG",
    "outputId": "a8142ab6-3c6f-4b11-e992-7e5f45de94d7"
   },
   "outputs": [
    {
     "name": "stdout",
     "output_type": "stream",
     "text": [
      "details of vegetables\n"
     ]
    },
    {
     "data": {
      "text/plain": [
       "count     20.000000\n",
       "mean      33.500000\n",
       "std       30.482955\n",
       "min       10.000000\n",
       "25%       15.000000\n",
       "50%       22.500000\n",
       "75%       33.750000\n",
       "max      110.000000\n",
       "Name: Calories, dtype: float64"
      ]
     },
     "execution_count": 22,
     "metadata": {},
     "output_type": "execute_result"
    }
   ],
   "source": [
    "print('details of vegetables')\n",
    "Vegetables.Calories.describe()"
   ]
  },
  {
   "cell_type": "code",
   "execution_count": 23,
   "metadata": {
    "colab": {
     "base_uri": "https://localhost:8080/",
     "height": 332
    },
    "id": "DfitRdfxlj-Z",
    "outputId": "6c03f808-3f88-403f-ed7d-73371cdcac7a"
   },
   "outputs": [
    {
     "data": {
      "text/plain": [
       "Text(0.5, 1.0, 'Distributions of class \\n (0: fruits || 1: seafoods || 2: vegetables)')"
      ]
     },
     "execution_count": 23,
     "metadata": {},
     "output_type": "execute_result"
    },
    {
     "data": {
      "image/png": "[encoded data removed]",
      "text/plain": [
       "<Figure size 432x288 with 1 Axes>"
      ]
     },
     "metadata": {
      "needs_background": "light"
     },
     "output_type": "display_data"
    }
   ],
   "source": [
    "colors = [\"#01DF01\", \"#DF0101\", \"#cd01df\"]\n",
    "sns.countplot('Food Type', data=data, palette=colors)\n",
    "plt.title('Distributions of class \\n (0: fruits || 1: seafoods || 2: vegetables)', fontsize=16)"
   ]
  },
  {
   "cell_type": "code",
   "execution_count": 24,
   "metadata": {
    "colab": {
     "base_uri": "https://localhost:8080/",
     "height": 279
    },
    "id": "qKdGUdhlvNDI",
    "outputId": "11fc12dc-7c36-41f9-d5a3-89dc17b25a6b"
   },
   "outputs": [
    {
     "data": {
      "image/png": "[encoded data removed]",
      "text/plain": [
       "<Figure size 432x288 with 1 Axes>"
      ]
     },
     "metadata": {
      "needs_background": "light"
     },
     "output_type": "display_data"
    }
   ],
   "source": [
    "sns.barplot(x=\"Food Type\",y=\"Calories\",data=data)\n",
    "plt.show()"
   ]
  },
  {
   "cell_type": "code",
   "execution_count": 25,
   "metadata": {
    "colab": {
     "base_uri": "https://localhost:8080/",
     "height": 282
    },
    "id": "oCbsuYvqvNGL",
    "outputId": "49e13096-9593-4b17-a57c-ff85f1625860"
   },
   "outputs": [
    {
     "data": {
      "image/png": "[encoded data removed]",
      "text/plain": [
       "<Figure size 432x288 with 1 Axes>"
      ]
     },
     "metadata": {
      "needs_background": "light"
     },
     "output_type": "display_data"
    }
   ],
   "source": [
    "sns.barplot(x=\"Food Type\",y=\"Total Fat\",data=data)\n",
    "plt.show()"
   ]
  },
  {
   "cell_type": "code",
   "execution_count": 26,
   "metadata": {
    "colab": {
     "base_uri": "https://localhost:8080/",
     "height": 279
    },
    "id": "NdUL7Bw9vNJQ",
    "outputId": "eea51dd6-c4a9-40ab-a60e-1d44c277f4ff"
   },
   "outputs": [
    {
     "data": {
      "image/png": "[encoded data removed]",
      "text/plain": [
       "<Figure size 432x288 with 1 Axes>"
      ]
     },
     "metadata": {
      "needs_background": "light"
     },
     "output_type": "display_data"
    }
   ],
   "source": [
    "sns.barplot(x=\"Food Type\",y=\"Sodium\",data=data)\n",
    "plt.show()"
   ]
  },
  {
   "cell_type": "code",
   "execution_count": 27,
   "metadata": {
    "colab": {
     "base_uri": "https://localhost:8080/",
     "height": 279
    },
    "id": "9-ZJG7e0wysH",
    "outputId": "03d1076b-3d8a-4616-bec0-5b397fdf60ae"
   },
   "outputs": [
    {
     "data": {
      "image/png": "[encoded data removed]",
      "text/plain": [
       "<Figure size 432x288 with 1 Axes>"
      ]
     },
     "metadata": {
      "needs_background": "light"
     },
     "output_type": "display_data"
    }
   ],
   "source": [
    "sns.barplot(x=\"Food Type\",y=\"Potassium\",data=data)\n",
    "plt.show()"
   ]
  },
  {
   "cell_type": "code",
   "execution_count": 28,
   "metadata": {
    "colab": {
     "base_uri": "https://localhost:8080/",
     "height": 279
    },
    "id": "gTk6cO4lwyvC",
    "outputId": "848bbb82-7593-4525-f6b8-7e369a061aab"
   },
   "outputs": [
    {
     "data": {
      "image/png": "[encoded data removed]",
      "text/plain": [
       "<Figure size 432x288 with 1 Axes>"
      ]
     },
     "metadata": {
      "needs_background": "light"
     },
     "output_type": "display_data"
    }
   ],
   "source": [
    "sns.barplot(x=\"Food Type\",y=\"Total Carbo-hydrate\",data=data)\n",
    "plt.show()"
   ]
  },
  {
   "cell_type": "code",
   "execution_count": 29,
   "metadata": {
    "colab": {
     "base_uri": "https://localhost:8080/",
     "height": 279
    },
    "id": "NzZ8EeCpwyzo",
    "outputId": "49e681ac-e197-41e4-cf77-d012fe278d4b"
   },
   "outputs": [
    {
     "data": {
      "image/png": "[encoded data removed]",
      "text/plain": [
       "<Figure size 432x288 with 1 Axes>"
      ]
     },
     "metadata": {
      "needs_background": "light"
     },
     "output_type": "display_data"
    }
   ],
   "source": [
    "sns.barplot(x=\"Food Type\",y=\"Dietary Fiber\",data=data)\n",
    "plt.show()"
   ]
  },
  {
   "cell_type": "code",
   "execution_count": 30,
   "metadata": {
    "colab": {
     "base_uri": "https://localhost:8080/",
     "height": 279
    },
    "id": "G2TwBfdvxGuZ",
    "outputId": "1aeba3ce-4a87-4d3a-b77f-ce776917baf9"
   },
   "outputs": [
    {
     "data": {
      "image/png": "[encoded data removed]",
      "text/plain": [
       "<Figure size 432x288 with 1 Axes>"
      ]
     },
     "metadata": {
      "needs_background": "light"
     },
     "output_type": "display_data"
    }
   ],
   "source": [
    "sns.barplot(x=\"Food Type\",y=\"Sugars\",data=data)\n",
    "plt.show()"
   ]
  },
  {
   "cell_type": "code",
   "execution_count": 31,
   "metadata": {
    "colab": {
     "base_uri": "https://localhost:8080/",
     "height": 279
    },
    "id": "fKtXXDSexGxZ",
    "outputId": "11d089d2-b8f0-472f-9472-44139830f225"
   },
   "outputs": [
    {
     "data": {
      "image/png": "[encoded data removed]",
      "text/plain": [
       "<Figure size 432x288 with 1 Axes>"
      ]
     },
     "metadata": {
      "needs_background": "light"
     },
     "output_type": "display_data"
    }
   ],
   "source": [
    "sns.barplot(x=\"Food Type\",y=\"Protein\",data=data)\n",
    "plt.show()"
   ]
  },
  {
   "cell_type": "code",
   "execution_count": 32,
   "metadata": {
    "colab": {
     "base_uri": "https://localhost:8080/",
     "height": 279
    },
    "id": "1M-urNbNxG0S",
    "outputId": "e93b03f4-38a0-414a-bf7b-fdf963b67356"
   },
   "outputs": [
    {
     "data": {
      "image/png": "[encoded data removed]",
      "text/plain": [
       "<Figure size 432x288 with 1 Axes>"
      ]
     },
     "metadata": {
      "needs_background": "light"
     },
     "output_type": "display_data"
    }
   ],
   "source": [
    "sns.barplot(x=\"Food Type\",y=\"Vitamin A\",data=data)\n",
    "plt.show()"
   ]
  },
  {
   "cell_type": "code",
   "execution_count": 33,
   "metadata": {
    "colab": {
     "base_uri": "https://localhost:8080/",
     "height": 279
    },
    "id": "HgwbMF9gxcs5",
    "outputId": "bd0c32eb-7436-4583-e8eb-e16c751330a6"
   },
   "outputs": [
    {
     "data": {
      "image/png": "[encoded data removed]",
      "text/plain": [
       "<Figure size 432x288 with 1 Axes>"
      ]
     },
     "metadata": {
      "needs_background": "light"
     },
     "output_type": "display_data"
    }
   ],
   "source": [
    "sns.barplot(x=\"Food Type\",y=\"Vitamin C\",data=data)\n",
    "plt.show()"
   ]
  },
  {
   "cell_type": "code",
   "execution_count": 34,
   "metadata": {
    "colab": {
     "base_uri": "https://localhost:8080/",
     "height": 279
    },
    "id": "6BUuvyNqxcwE",
    "outputId": "5a3f3c57-3faf-4735-a9de-7329d00b0b31"
   },
   "outputs": [
    {
     "data": {
      "image/png": "[encoded data removed]",
      "text/plain": [
       "<Figure size 432x288 with 1 Axes>"
      ]
     },
     "metadata": {
      "needs_background": "light"
     },
     "output_type": "display_data"
    }
   ],
   "source": [
    "sns.barplot(x=\"Food Type\",y=\"Calcium\",data=data)\n",
    "plt.show()"
   ]
  },
  {
   "cell_type": "code",
   "execution_count": 35,
   "metadata": {
    "colab": {
     "base_uri": "https://localhost:8080/",
     "height": 279
    },
    "id": "e0-YAs17xczA",
    "outputId": "0754108b-c2f2-4f16-def8-916a0cc4b141"
   },
   "outputs": [
    {
     "data": {
      "image/png": "[encoded data removed]",
      "text/plain": [
       "<Figure size 432x288 with 1 Axes>"
      ]
     },
     "metadata": {
      "needs_background": "light"
     },
     "output_type": "display_data"
    }
   ],
   "source": [
    "sns.barplot(x=\"Food Type\",y=\"ÊÊIronÊÊ\",data=data)\n",
    "plt.show()"
   ]
  },
  {
   "cell_type": "code",
   "execution_count": 36,
   "metadata": {
    "colab": {
     "base_uri": "https://localhost:8080/",
     "height": 279
    },
    "id": "2HwCq7CPxc1v",
    "outputId": "77bd5480-489b-4428-9ef2-aa00e0610625"
   },
   "outputs": [
    {
     "data": {
      "image/png": "[encoded data removed]",
      "text/plain": [
       "<Figure size 432x288 with 1 Axes>"
      ]
     },
     "metadata": {
      "needs_background": "light"
     },
     "output_type": "display_data"
    }
   ],
   "source": [
    "sns.barplot(x=\"Food Type\",y=\"Saturated Fat\",data=data)\n",
    "plt.show()"
   ]
  },
  {
   "cell_type": "code",
   "execution_count": 37,
   "metadata": {
    "colab": {
     "base_uri": "https://localhost:8080/",
     "height": 279
    },
    "id": "ga9_Twylxc4a",
    "outputId": "333f1141-4cc3-4106-bbb0-cce5171c3e85"
   },
   "outputs": [
    {
     "data": {
      "image/png": "[encoded data removed]",
      "text/plain": [
       "<Figure size 432x288 with 1 Axes>"
      ]
     },
     "metadata": {
      "needs_background": "light"
     },
     "output_type": "display_data"
    }
   ],
   "source": [
    "sns.barplot(x=\"Food Type\",y=\"Chole-sterol\",data=data)\n",
    "plt.show()"
   ]
  },
  {
   "cell_type": "code",
   "execution_count": 38,
   "metadata": {
    "colab": {
     "base_uri": "https://localhost:8080/",
     "height": 710
    },
    "id": "shQ9IGe7mfQU",
    "outputId": "87975da7-df80-4367-a55b-f98c30d6b641"
   },
   "outputs": [
    {
     "data": {
      "image/png": "[encoded data removed]",
      "text/plain": [
       "<Figure size 1152x720 with 4 Axes>"
      ]
     },
     "metadata": {
      "needs_background": "light"
     },
     "output_type": "display_data"
    }
   ],
   "source": [
    "data.hist(figsize=(16,10), grid=False)\n",
    "plt.tight_layout()"
   ]
  },
  {
   "cell_type": "code",
   "execution_count": 39,
   "metadata": {
    "colab": {
     "base_uri": "https://localhost:8080/",
     "height": 584
    },
    "id": "3gSSpE-nmfak",
    "outputId": "4af9b1ab-2b77-4c06-f630-3dc56b733e51"
   },
   "outputs": [
    {
     "data": {
      "image/png": "[encoded data removed]",
      "text/plain": [
       "<Figure size 1152x864 with 36 Axes>"
      ]
     },
     "metadata": {
      "needs_background": "light"
     },
     "output_type": "display_data"
    }
   ],
   "source": [
    "data.plot.box(subplots=True, sharey=False, layout=(6,6), figsize=(16,12))\n",
    "plt.tight_layout()"
   ]
  },
  {
   "cell_type": "code",
   "execution_count": 40,
   "metadata": {
    "colab": {
     "base_uri": "https://localhost:8080/",
     "height": 490
    },
    "id": "IzlhwnDumyei",
    "outputId": "2baf517a-33ea-4286-c185-8136ec44e099"
   },
   "outputs": [
    {
     "data": {
      "image/png": "[encoded data removed]",
      "text/plain": [
       "<Figure size 1152x720 with 36 Axes>"
      ]
     },
     "metadata": {
      "needs_background": "light"
     },
     "output_type": "display_data"
    }
   ],
   "source": [
    "data.plot.kde(subplots=True, sharex=False, layout=(6,6), figsize=(16,10))\n",
    "plt.tight_layout()"
   ]
  },
  {
   "cell_type": "code",
   "execution_count": 41,
   "metadata": {
    "colab": {
     "base_uri": "https://localhost:8080/",
     "height": 744
    },
    "id": "zQplyOokmyn6",
    "outputId": "792e65fc-509b-48b1-ce29-2d98c067a593"
   },
   "outputs": [
    {
     "data": {
      "image/png": "[encoded data removed]",
      "text/plain": [
       "<Figure size 864x864 with 2 Axes>"
      ]
     },
     "metadata": {
      "needs_background": "light"
     },
     "output_type": "display_data"
    }
   ],
   "source": [
    "corrmat = data.corr()\n",
    "fig = plt.figure(figsize = (12, 12))\n",
    "sns.heatmap(corrmat, vmax = .10, square = True)\n",
    "plt.show()"
   ]
  },
  {
   "cell_type": "code",
   "execution_count": 42,
   "metadata": {
    "id": "kTCL2RIbn3GT"
   },
   "outputs": [],
   "source": [
    "feature_names = data.iloc[:, 1:23].columns\n",
    "target = data.iloc[:1, 23:].columns\n",
    "\n",
    "data_features = data[feature_names]\n",
    "data_target = data[target]"
   ]
  },
  {
   "cell_type": "code",
   "execution_count": 43,
   "metadata": {
    "colab": {
     "base_uri": "https://localhost:8080/"
    },
    "id": "aud1mqupn3QE",
    "outputId": "06ed1991-a577-43ec-bcc2-f632140896d7"
   },
   "outputs": [
    {
     "data": {
      "text/plain": [
       "Index(['Calories', 'CaloriesÊfrom Fat', 'Total Fat', 'Total Fat.1', 'Sodium',\n",
       "       'Sodium.1', 'Potassium', 'Potassium.1', 'Total Carbo-hydrate',\n",
       "       'Total Carbo-hydrate.1', 'Dietary Fiber', 'Dietary Fiber.1', 'Sugars',\n",
       "       'Protein', 'Vitamin A', 'Vitamin C', 'Calcium', 'ÊÊIronÊÊ',\n",
       "       'Saturated Fat', 'Saturated Fat.1', 'Chole-sterol', 'Chole-sterol.1'],\n",
       "      dtype='object')"
      ]
     },
     "execution_count": 43,
     "metadata": {},
     "output_type": "execute_result"
    }
   ],
   "source": [
    "feature_names"
   ]
  },
  {
   "cell_type": "code",
   "execution_count": 44,
   "metadata": {
    "colab": {
     "base_uri": "https://localhost:8080/"
    },
    "id": "aA9uax2UoJUT",
    "outputId": "bcea8dab-c216-4720-c220-3f082033c313"
   },
   "outputs": [
    {
     "data": {
      "text/plain": [
       "Index(['Food Type'], dtype='object')"
      ]
     },
     "execution_count": 44,
     "metadata": {},
     "output_type": "execute_result"
    }
   ],
   "source": [
    "target"
   ]
  },
  {
   "cell_type": "code",
   "execution_count": 45,
   "metadata": {
    "id": "Y9umLx_-oJYy"
   },
   "outputs": [],
   "source": [
    "from sklearn.model_selection import train_test_split\n",
    "X_train, X_test, y_train, y_test = train_test_split(data_features, data_target, train_size = 0.80, test_size = 0.20, random_state = 1)"
   ]
  },
  {
   "cell_type": "code",
   "execution_count": 46,
   "metadata": {
    "id": "QmCNns5FoJd8"
   },
   "outputs": [],
   "source": [
    "from sklearn.metrics import plot_confusion_matrix, accuracy_score, classification_report, plot_roc_curve\n"
   ]
  },
  {
   "cell_type": "code",
   "execution_count": 47,
   "metadata": {
    "colab": {
     "base_uri": "https://localhost:8080/",
     "height": 586
    },
    "id": "wNuDWBdUoQ_U",
    "outputId": "21694b19-c1a7-4e2e-bf20-108a33bd25a8"
   },
   "outputs": [
    {
     "data": {
      "text/plain": [
       "\"'from sklearn.linear_model import LogisticRegression\\nlr = LogisticRegression()\\nlr.fit(X_train,y_train)\\ny_pred_lr = lr.predict(X_test)\\nprint('Classfication Report:\\n',classification_report(y_test,y_pred_lr))\\nF,ax = plt.subplots(1,2, figsize=(10,6))\\nplot_confusion_matrix(lr, X_test,y_test, cmap='Blues', ax=ax[0])\""
      ]
     },
     "execution_count": 47,
     "metadata": {},
     "output_type": "execute_result"
    }
   ],
   "source": [
    "''''from sklearn.linear_model import LogisticRegression\n",
    "lr = LogisticRegression()\n",
    "lr.fit(X_train,y_train)\n",
    "y_pred_lr = lr.predict(X_test)\n",
    "print('Classfication Report:\\n',classification_report(y_test,y_pred_lr))\n",
    "F,ax = plt.subplots(1,2, figsize=(10,6))\n",
    "plot_confusion_matrix(lr, X_test,y_test, cmap='Blues', ax=ax[0])'''"
   ]
  },
  {
   "cell_type": "code",
   "execution_count": 53,
   "metadata": {},
   "outputs": [
    {
     "ename": "TypeError",
     "evalue": "'<' not supported between instances of 'str' and 'float'",
     "output_type": "error",
     "traceback": [
      "\u001b[0;31m---------------------------------------------------------------------------\u001b[0m",
      "\u001b[0;31mTypeError\u001b[0m                                 Traceback (most recent call last)",
      "\u001b[0;32m/var/folders/qp/v5sm2j7553jb41398ktpqrkm0000gn/T/ipykernel_9017/1831312455.py\u001b[0m in \u001b[0;36m<module>\u001b[0;34m\u001b[0m\n\u001b[1;32m      9\u001b[0m }\n\u001b[1;32m     10\u001b[0m \u001b[0;34m\u001b[0m\u001b[0m\n\u001b[0;32m---> 11\u001b[0;31m \u001b[0mlr_results\u001b[0m \u001b[0;34m=\u001b[0m \u001b[0maccuracy_score\u001b[0m\u001b[0;34m(\u001b[0m\u001b[0mX_train\u001b[0m\u001b[0;34m,\u001b[0m \u001b[0my_train\u001b[0m\u001b[0;34m)\u001b[0m\u001b[0;34m\u001b[0m\u001b[0;34m\u001b[0m\u001b[0m\n\u001b[0m",
      "\u001b[0;32m/opt/anaconda3/lib/python3.9/site-packages/sklearn/metrics/_classification.py\u001b[0m in \u001b[0;36maccuracy_score\u001b[0;34m(y_true, y_pred, normalize, sample_weight)\u001b[0m\n\u001b[1;32m    209\u001b[0m \u001b[0;34m\u001b[0m\u001b[0m\n\u001b[1;32m    210\u001b[0m     \u001b[0;31m# Compute accuracy for each possible representation\u001b[0m\u001b[0;34m\u001b[0m\u001b[0;34m\u001b[0m\u001b[0m\n\u001b[0;32m--> 211\u001b[0;31m     \u001b[0my_type\u001b[0m\u001b[0;34m,\u001b[0m \u001b[0my_true\u001b[0m\u001b[0;34m,\u001b[0m \u001b[0my_pred\u001b[0m \u001b[0;34m=\u001b[0m \u001b[0m_check_targets\u001b[0m\u001b[0;34m(\u001b[0m\u001b[0my_true\u001b[0m\u001b[0;34m,\u001b[0m \u001b[0my_pred\u001b[0m\u001b[0;34m)\u001b[0m\u001b[0;34m\u001b[0m\u001b[0;34m\u001b[0m\u001b[0m\n\u001b[0m\u001b[1;32m    212\u001b[0m     \u001b[0mcheck_consistent_length\u001b[0m\u001b[0;34m(\u001b[0m\u001b[0my_true\u001b[0m\u001b[0;34m,\u001b[0m \u001b[0my_pred\u001b[0m\u001b[0;34m,\u001b[0m \u001b[0msample_weight\u001b[0m\u001b[0;34m)\u001b[0m\u001b[0;34m\u001b[0m\u001b[0;34m\u001b[0m\u001b[0m\n\u001b[1;32m    213\u001b[0m     \u001b[0;32mif\u001b[0m \u001b[0my_type\u001b[0m\u001b[0;34m.\u001b[0m\u001b[0mstartswith\u001b[0m\u001b[0;34m(\u001b[0m\u001b[0;34m\"multilabel\"\u001b[0m\u001b[0;34m)\u001b[0m\u001b[0;34m:\u001b[0m\u001b[0;34m\u001b[0m\u001b[0;34m\u001b[0m\u001b[0m\n",
      "\u001b[0;32m/opt/anaconda3/lib/python3.9/site-packages/sklearn/metrics/_classification.py\u001b[0m in \u001b[0;36m_check_targets\u001b[0;34m(y_true, y_pred)\u001b[0m\n\u001b[1;32m     83\u001b[0m     \"\"\"\n\u001b[1;32m     84\u001b[0m     \u001b[0mcheck_consistent_length\u001b[0m\u001b[0;34m(\u001b[0m\u001b[0my_true\u001b[0m\u001b[0;34m,\u001b[0m \u001b[0my_pred\u001b[0m\u001b[0;34m)\u001b[0m\u001b[0;34m\u001b[0m\u001b[0;34m\u001b[0m\u001b[0m\n\u001b[0;32m---> 85\u001b[0;31m     \u001b[0mtype_true\u001b[0m \u001b[0;34m=\u001b[0m \u001b[0mtype_of_target\u001b[0m\u001b[0;34m(\u001b[0m\u001b[0my_true\u001b[0m\u001b[0;34m,\u001b[0m \u001b[0minput_name\u001b[0m\u001b[0;34m=\u001b[0m\u001b[0;34m\"y_true\"\u001b[0m\u001b[0;34m)\u001b[0m\u001b[0;34m\u001b[0m\u001b[0;34m\u001b[0m\u001b[0m\n\u001b[0m\u001b[1;32m     86\u001b[0m     \u001b[0mtype_pred\u001b[0m \u001b[0;34m=\u001b[0m \u001b[0mtype_of_target\u001b[0m\u001b[0;34m(\u001b[0m\u001b[0my_pred\u001b[0m\u001b[0;34m,\u001b[0m \u001b[0minput_name\u001b[0m\u001b[0;34m=\u001b[0m\u001b[0;34m\"y_pred\"\u001b[0m\u001b[0;34m)\u001b[0m\u001b[0;34m\u001b[0m\u001b[0;34m\u001b[0m\u001b[0m\n\u001b[1;32m     87\u001b[0m \u001b[0;34m\u001b[0m\u001b[0m\n",
      "\u001b[0;32m/opt/anaconda3/lib/python3.9/site-packages/sklearn/utils/multiclass.py\u001b[0m in \u001b[0;36mtype_of_target\u001b[0;34m(y, input_name)\u001b[0m\n\u001b[1;32m    284\u001b[0m         \u001b[0;32mraise\u001b[0m \u001b[0mValueError\u001b[0m\u001b[0;34m(\u001b[0m\u001b[0;34m\"y cannot be class 'SparseSeries' or 'SparseArray'\"\u001b[0m\u001b[0;34m)\u001b[0m\u001b[0;34m\u001b[0m\u001b[0;34m\u001b[0m\u001b[0m\n\u001b[1;32m    285\u001b[0m \u001b[0;34m\u001b[0m\u001b[0m\n\u001b[0;32m--> 286\u001b[0;31m     \u001b[0;32mif\u001b[0m \u001b[0mis_multilabel\u001b[0m\u001b[0;34m(\u001b[0m\u001b[0my\u001b[0m\u001b[0;34m)\u001b[0m\u001b[0;34m:\u001b[0m\u001b[0;34m\u001b[0m\u001b[0;34m\u001b[0m\u001b[0m\n\u001b[0m\u001b[1;32m    287\u001b[0m         \u001b[0;32mreturn\u001b[0m \u001b[0;34m\"multilabel-indicator\"\u001b[0m\u001b[0;34m\u001b[0m\u001b[0;34m\u001b[0m\u001b[0m\n\u001b[1;32m    288\u001b[0m \u001b[0;34m\u001b[0m\u001b[0m\n",
      "\u001b[0;32m/opt/anaconda3/lib/python3.9/site-packages/sklearn/utils/multiclass.py\u001b[0m in \u001b[0;36mis_multilabel\u001b[0;34m(y)\u001b[0m\n\u001b[1;32m    171\u001b[0m         )\n\u001b[1;32m    172\u001b[0m     \u001b[0;32melse\u001b[0m\u001b[0;34m:\u001b[0m\u001b[0;34m\u001b[0m\u001b[0;34m\u001b[0m\u001b[0m\n\u001b[0;32m--> 173\u001b[0;31m         \u001b[0mlabels\u001b[0m \u001b[0;34m=\u001b[0m \u001b[0mnp\u001b[0m\u001b[0;34m.\u001b[0m\u001b[0munique\u001b[0m\u001b[0;34m(\u001b[0m\u001b[0my\u001b[0m\u001b[0;34m)\u001b[0m\u001b[0;34m\u001b[0m\u001b[0;34m\u001b[0m\u001b[0m\n\u001b[0m\u001b[1;32m    174\u001b[0m \u001b[0;34m\u001b[0m\u001b[0m\n\u001b[1;32m    175\u001b[0m         return len(labels) < 3 and (\n",
      "\u001b[0;32m<__array_function__ internals>\u001b[0m in \u001b[0;36munique\u001b[0;34m(*args, **kwargs)\u001b[0m\n",
      "\u001b[0;32m/opt/anaconda3/lib/python3.9/site-packages/numpy/lib/arraysetops.py\u001b[0m in \u001b[0;36munique\u001b[0;34m(ar, return_index, return_inverse, return_counts, axis)\u001b[0m\n\u001b[1;32m    260\u001b[0m     \u001b[0mar\u001b[0m \u001b[0;34m=\u001b[0m \u001b[0mnp\u001b[0m\u001b[0;34m.\u001b[0m\u001b[0masanyarray\u001b[0m\u001b[0;34m(\u001b[0m\u001b[0mar\u001b[0m\u001b[0;34m)\u001b[0m\u001b[0;34m\u001b[0m\u001b[0;34m\u001b[0m\u001b[0m\n\u001b[1;32m    261\u001b[0m     \u001b[0;32mif\u001b[0m \u001b[0maxis\u001b[0m \u001b[0;32mis\u001b[0m \u001b[0;32mNone\u001b[0m\u001b[0;34m:\u001b[0m\u001b[0;34m\u001b[0m\u001b[0;34m\u001b[0m\u001b[0m\n\u001b[0;32m--> 262\u001b[0;31m         \u001b[0mret\u001b[0m \u001b[0;34m=\u001b[0m \u001b[0m_unique1d\u001b[0m\u001b[0;34m(\u001b[0m\u001b[0mar\u001b[0m\u001b[0;34m,\u001b[0m \u001b[0mreturn_index\u001b[0m\u001b[0;34m,\u001b[0m \u001b[0mreturn_inverse\u001b[0m\u001b[0;34m,\u001b[0m \u001b[0mreturn_counts\u001b[0m\u001b[0;34m)\u001b[0m\u001b[0;34m\u001b[0m\u001b[0;34m\u001b[0m\u001b[0m\n\u001b[0m\u001b[1;32m    263\u001b[0m         \u001b[0;32mreturn\u001b[0m \u001b[0m_unpack_tuple\u001b[0m\u001b[0;34m(\u001b[0m\u001b[0mret\u001b[0m\u001b[0;34m)\u001b[0m\u001b[0;34m\u001b[0m\u001b[0;34m\u001b[0m\u001b[0m\n\u001b[1;32m    264\u001b[0m \u001b[0;34m\u001b[0m\u001b[0m\n",
      "\u001b[0;32m/opt/anaconda3/lib/python3.9/site-packages/numpy/lib/arraysetops.py\u001b[0m in \u001b[0;36m_unique1d\u001b[0;34m(ar, return_index, return_inverse, return_counts)\u001b[0m\n\u001b[1;32m    321\u001b[0m         \u001b[0maux\u001b[0m \u001b[0;34m=\u001b[0m \u001b[0mar\u001b[0m\u001b[0;34m[\u001b[0m\u001b[0mperm\u001b[0m\u001b[0;34m]\u001b[0m\u001b[0;34m\u001b[0m\u001b[0;34m\u001b[0m\u001b[0m\n\u001b[1;32m    322\u001b[0m     \u001b[0;32melse\u001b[0m\u001b[0;34m:\u001b[0m\u001b[0;34m\u001b[0m\u001b[0;34m\u001b[0m\u001b[0m\n\u001b[0;32m--> 323\u001b[0;31m         \u001b[0mar\u001b[0m\u001b[0;34m.\u001b[0m\u001b[0msort\u001b[0m\u001b[0;34m(\u001b[0m\u001b[0;34m)\u001b[0m\u001b[0;34m\u001b[0m\u001b[0;34m\u001b[0m\u001b[0m\n\u001b[0m\u001b[1;32m    324\u001b[0m         \u001b[0maux\u001b[0m \u001b[0;34m=\u001b[0m \u001b[0mar\u001b[0m\u001b[0;34m\u001b[0m\u001b[0;34m\u001b[0m\u001b[0m\n\u001b[1;32m    325\u001b[0m     \u001b[0mmask\u001b[0m \u001b[0;34m=\u001b[0m \u001b[0mnp\u001b[0m\u001b[0;34m.\u001b[0m\u001b[0mempty\u001b[0m\u001b[0;34m(\u001b[0m\u001b[0maux\u001b[0m\u001b[0;34m.\u001b[0m\u001b[0mshape\u001b[0m\u001b[0;34m,\u001b[0m \u001b[0mdtype\u001b[0m\u001b[0;34m=\u001b[0m\u001b[0mnp\u001b[0m\u001b[0;34m.\u001b[0m\u001b[0mbool_\u001b[0m\u001b[0;34m)\u001b[0m\u001b[0;34m\u001b[0m\u001b[0;34m\u001b[0m\u001b[0m\n",
      "\u001b[0;31mTypeError\u001b[0m: '<' not supported between instances of 'str' and 'float'"
     ]
    }
   ],
   "source": [
    "# Logistic Regression\n",
    "from sklearn.linear_model import LogisticRegression\n",
    "# Hypertuning Parameters\n",
    "log_param = {\n",
    "    'penalty' : ['l1', 'l2', 'elasticnet', 'none'],\n",
    "    'C' : np.logspace(-4,4,20),\n",
    "    'solver' : ['lbfgs', 'newton-cg', 'liblinear', 'sag', 'saga'],\n",
    "    'max_iter' : [100, 1000, 2500, 5000]\n",
    "}\n",
    "\n",
    "lr_results = accuracy_score(X_train, y_train)"
   ]
  },
  {
   "cell_type": "code",
   "execution_count": null,
   "metadata": {
    "colab": {
     "base_uri": "https://localhost:8080/"
    },
    "id": "4l9fvgZUoRB9",
    "outputId": "1fa20832-f913-4644-ef92-b1f03ffe0bd8"
   },
   "outputs": [],
   "source": [
    "accuracy_score(y_test, y_pred_lr)"
   ]
  },
  {
   "cell_type": "code",
   "execution_count": null,
   "metadata": {
    "colab": {
     "base_uri": "https://localhost:8080/",
     "height": 586
    },
    "id": "VIe6A_1JoREL",
    "outputId": "80aa36ae-1278-4913-e2ca-20badccc86da"
   },
   "outputs": [],
   "source": [
    "from sklearn.ensemble import RandomForestClassifier\n",
    "forest = RandomForestClassifier()\n",
    "forest.fit(X_train,y_train)\n",
    "y_pred_forest = forest.predict(X_test)\n",
    "\n",
    "print('Classfication Report:\\n',classification_report(y_test,y_pred_forest))\n",
    "\n",
    "F,ax = plt.subplots(1,2, figsize=(10,6))\n",
    "plot_confusion_matrix(forest, X_test,y_test, cmap='Blues', ax=ax[0])"
   ]
  },
  {
   "cell_type": "code",
   "execution_count": null,
   "metadata": {
    "colab": {
     "base_uri": "https://localhost:8080/"
    },
    "id": "8Fk1sMnRoRHX",
    "outputId": "cd5477af-6dec-48e0-edd7-94c61dde6ae4"
   },
   "outputs": [],
   "source": [
    "accuracy_score(y_test, y_pred_forest)"
   ]
  }
 ],
 "metadata": {
  "colab": {
   "provenance": []
  },
  "kernelspec": {
   "display_name": "Python 3 (ipykernel)",
   "language": "python",
   "name": "python3"
  },
  "language_info": {
   "codemirror_mode": {
    "name": "ipython",
    "version": 3
   },
   "file_extension": ".py",
   "mimetype": "text/x-python",
   "name": "python",
   "nbconvert_exporter": "python",
   "pygments_lexer": "ipython3",
   "version": "3.9.7"
  }
 },
 "nbformat": 4,
 "nbformat_minor": 1
}
